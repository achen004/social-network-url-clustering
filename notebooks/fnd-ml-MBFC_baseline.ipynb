{
 "cells": [
  {
   "attachments": {},
   "cell_type": "markdown",
   "metadata": {
    "papermill": {
     "duration": 0.033139,
     "end_time": "2021-02-02T18:51:48.184592",
     "exception": false,
     "start_time": "2021-02-02T18:51:48.151453",
     "status": "completed"
    },
    "tags": []
   },
   "source": [
    "# Fake News Detected\n",
    "\n",
    "1. [Keşifsel Veri Analizi](#1)\n",
    "1. [Veri Ön İşleme](#2)\n",
    "    1. [En Sık Kullanılan Kelime Tespiti](#3)\n",
    "1. [Eğitim Test Verilerinin Bölütlenmesi](#4)\n",
    "1. [Metin Verilerinin Sayısal Verilere Çevrilmesi](#5)\n",
    "    1. [Count Vectorizer](#6)\n",
    "    1. [TFIDF Vecktorizer](#7)\n",
    "1. [Model Oluşturma](#8)\n",
    "    1. [Count Vectorizer ile MNB Modeli](#9)\n",
    "    1. [TF-IDF Vektörü ile MNB Algoritmasının Uygulanması](#10)\n",
    "    1. [Pasif Agresif Sınıflandırıcı](#11)\n",
    "    1. [Logistic Regression Modelinin Oluşturulması](#12)\n",
    "1. [Test Veri Setine Seçilen Modelin Uygulanması](#13)\n",
    "1. [Submission](#14)\n",
    "\n",
    "    "
   ]
  },
  {
   "cell_type": "code",
   "execution_count": 152,
   "metadata": {
    "_cell_guid": "b1076dfc-b9ad-4769-8c92-a6c4dae69d19",
    "_uuid": "8f2839f25d086af736a60e9eeb907d3b93b6e0e5",
    "execution": {
     "iopub.execute_input": "2021-02-02T18:51:48.259625Z",
     "iopub.status.busy": "2021-02-02T18:51:48.258923Z",
     "iopub.status.idle": "2021-02-02T18:51:56.722862Z",
     "shell.execute_reply": "2021-02-02T18:51:56.722148Z"
    },
    "papermill": {
     "duration": 8.505898,
     "end_time": "2021-02-02T18:51:56.723055",
     "exception": false,
     "start_time": "2021-02-02T18:51:48.217157",
     "status": "completed"
    },
    "tags": []
   },
   "outputs": [],
   "source": [
    "# This Python 3 environment comes with many helpful analytics libraries installed\n",
    "# It is defined by the kaggle/python Docker image: https://github.com/kaggle/docker-python\n",
    "# For example, here's several helpful packages to load\n",
    "\n",
    "import numpy as np # linear algebra\n",
    "import pandas as pd # data processing, CSV file I/O (e.g. pd.read_csv)\n",
    "\n",
    "# Input data files are available in the read-only \"../input/\" directory\n",
    "# For example, running this (by clicking run or pressing Shift+Enter) will list all files under the input directory\n",
    "\n",
    "import os\n",
    "for dirname, _, filenames in os.walk('/kaggle/input'):\n",
    "    for filename in filenames:\n",
    "        print(os.path.join(dirname, filename))\n",
    "\n",
    "# You can write up to 20GB to the current directory (/kaggle/working/) that gets preserved as output when you create a version using \"Save & Run All\" \n",
    "# You can also write temporary files to /kaggle/temp/, but they won't be saved outside of the current session\n",
    "import re\n",
    "import matplotlib.pyplot as plt\n",
    "import nltk\n",
    "from nltk.tokenize import word_tokenize\n",
    "from nltk.corpus import stopwords\n",
    "from nltk.stem import WordNetLemmatizer\n",
    "import seaborn as sns\n",
    "from sklearn.feature_extraction.text import TfidfVectorizer\n",
    "from sklearn.feature_extraction.text import CountVectorizer\n",
    "from sklearn import metrics\n",
    "\n",
    "from sklearn.naive_bayes import MultinomialNB\n",
    "from sklearn.linear_model import LogisticRegression\n",
    "from sklearn.linear_model import PassiveAggressiveClassifier\n",
    "from tensorflow.keras.preprocessing.text import Tokenizer\n",
    "import tensorflow as tf\n",
    "from sklearn.model_selection import train_test_split\n",
    "from sklearn.metrics import accuracy_score, confusion_matrix, precision_score, recall_score\n",
    "from sklearn.pipeline import Pipeline\n",
    "from sklearn.feature_extraction.text import TfidfTransformer\n",
    "import itertools\n",
    "from sklearn.metrics import classification_report"
   ]
  },
  {
   "attachments": {},
   "cell_type": "markdown",
   "metadata": {
    "papermill": {
     "duration": 0.032185,
     "end_time": "2021-02-02T18:51:56.789972",
     "exception": false,
     "start_time": "2021-02-02T18:51:56.757787",
     "status": "completed"
    },
    "tags": []
   },
   "source": [
    "<a id=\"1\"></a> <br>\n",
    "# Keşifsel Veri Analizi"
   ]
  },
  {
   "cell_type": "code",
   "execution_count": 153,
   "metadata": {},
   "outputs": [
    {
     "name": "stdout",
     "output_type": "stream",
     "text": [
      "25727\n"
     ]
    },
    {
     "data": {
      "text/plain": [
       "extract_text    3\n",
       "label           0\n",
       "dtype: int64"
      ]
     },
     "execution_count": 153,
     "metadata": {},
     "output_type": "execute_result"
    }
   ],
   "source": [
    "#concat labeled existing with internetarchive imputed missing text labeled datasets\n",
    "le_data=pd.read_csv(\"/Users/anthonychen/Downloads/labeled_existing.csv\")\n",
    "le_d=le_data[['extract_text', 'label']]\n",
    "print(len(le_d))\n",
    "le_d.isna().sum()"
   ]
  },
  {
   "cell_type": "code",
   "execution_count": 154,
   "metadata": {},
   "outputs": [
    {
     "name": "stderr",
     "output_type": "stream",
     "text": [
      "<ipython-input-154-de3e7fe84ef9>:1: SettingWithCopyWarning: \n",
      "A value is trying to be set on a copy of a slice from a DataFrame\n",
      "\n",
      "See the caveats in the documentation: https://pandas.pydata.org/pandas-docs/stable/user_guide/indexing.html#returning-a-view-versus-a-copy\n",
      "  le_d.dropna(inplace=True)\n"
     ]
    }
   ],
   "source": [
    "le_d.dropna(inplace=True)"
   ]
  },
  {
   "cell_type": "code",
   "execution_count": 155,
   "metadata": {},
   "outputs": [
    {
     "data": {
      "text/plain": [
       "Unnamed: 0_x      0\n",
       "url               0\n",
       "text            516\n",
       "Unnamed: 0_y      0\n",
       "created_at        0\n",
       "domain            0\n",
       "id_hash256        0\n",
       "interaction       0\n",
       "num_platform      0\n",
       "label             0\n",
       "dtype: int64"
      ]
     },
     "execution_count": 155,
     "metadata": {},
     "output_type": "execute_result"
    }
   ],
   "source": [
    "# our_data=pd.read_csv(\"/Users/anthonychen/Downloads/text_labels.csv\")\n",
    "our_data=pd.read_csv(\"/Users/anthonychen/Downloads/merged_murltext2.csv\")\n",
    "our_data.drop(['Unnamed: 0'] , axis=1, inplace=True)\n",
    "our_data.head()\n",
    "our_data.isna().sum()"
   ]
  },
  {
   "cell_type": "code",
   "execution_count": 156,
   "metadata": {},
   "outputs": [
    {
     "name": "stdout",
     "output_type": "stream",
     "text": [
      "13430\n"
     ]
    },
    {
     "data": {
      "text/plain": [
       "Index(['Unnamed: 0_x', 'url', 'extract_text', 'Unnamed: 0_y', 'created_at',\n",
       "       'domain', 'id_hash256', 'interaction', 'num_platform', 'label'],\n",
       "      dtype='object')"
      ]
     },
     "execution_count": 156,
     "metadata": {},
     "output_type": "execute_result"
    }
   ],
   "source": [
    "print(len(our_data))\n",
    "our_data.rename(columns={'text':'extract_text'}, inplace=True)\n",
    "our_data.columns"
   ]
  },
  {
   "cell_type": "code",
   "execution_count": 157,
   "metadata": {},
   "outputs": [
    {
     "data": {
      "text/plain": [
       "13430"
      ]
     },
     "execution_count": 157,
     "metadata": {},
     "output_type": "execute_result"
    }
   ],
   "source": [
    "our_data['extract_text'].isna().sum()\n",
    "len(our_data)"
   ]
  },
  {
   "cell_type": "code",
   "execution_count": 158,
   "metadata": {},
   "outputs": [],
   "source": [
    "our_data.dropna(inplace=True)"
   ]
  },
  {
   "cell_type": "code",
   "execution_count": 159,
   "metadata": {},
   "outputs": [
    {
     "data": {
      "text/plain": [
       "Unnamed: 0_x    0\n",
       "url             0\n",
       "extract_text    0\n",
       "Unnamed: 0_y    0\n",
       "created_at      0\n",
       "domain          0\n",
       "id_hash256      0\n",
       "interaction     0\n",
       "num_platform    0\n",
       "label           0\n",
       "dtype: int64"
      ]
     },
     "execution_count": 159,
     "metadata": {},
     "output_type": "execute_result"
    }
   ],
   "source": [
    "our_data.isna().sum()"
   ]
  },
  {
   "cell_type": "code",
   "execution_count": 160,
   "metadata": {},
   "outputs": [
    {
     "data": {
      "text/html": [
       "<div>\n",
       "<style scoped>\n",
       "    .dataframe tbody tr th:only-of-type {\n",
       "        vertical-align: middle;\n",
       "    }\n",
       "\n",
       "    .dataframe tbody tr th {\n",
       "        vertical-align: top;\n",
       "    }\n",
       "\n",
       "    .dataframe thead th {\n",
       "        text-align: right;\n",
       "    }\n",
       "</style>\n",
       "<table border=\"1\" class=\"dataframe\">\n",
       "  <thead>\n",
       "    <tr style=\"text-align: right;\">\n",
       "      <th></th>\n",
       "      <th>extract_text</th>\n",
       "    </tr>\n",
       "  </thead>\n",
       "  <tbody>\n",
       "    <tr>\n",
       "      <th>0</th>\n",
       "      <td>Corporate media is at it again, shilling for D...</td>\n",
       "    </tr>\n",
       "    <tr>\n",
       "      <th>1</th>\n",
       "      <td>A report from the International Organisation f...</td>\n",
       "    </tr>\n",
       "    <tr>\n",
       "      <th>2</th>\n",
       "      <td>Spain passed rules that prohibit adequate cool...</td>\n",
       "    </tr>\n",
       "    <tr>\n",
       "      <th>3</th>\n",
       "      <td>A troubling survey commissioned by trade publi...</td>\n",
       "    </tr>\n",
       "    <tr>\n",
       "      <th>4</th>\n",
       "      <td>Authored by Paul Joseph Watson via Summit News...</td>\n",
       "    </tr>\n",
       "    <tr>\n",
       "      <th>...</th>\n",
       "      <td>...</td>\n",
       "    </tr>\n",
       "    <tr>\n",
       "      <th>13424</th>\n",
       "      <td>\\n\\nNancy Hogshead-Makar says that men should ...</td>\n",
       "    </tr>\n",
       "    <tr>\n",
       "      <th>13426</th>\n",
       "      <td>A New York state judge on Friday ordered the N...</td>\n",
       "    </tr>\n",
       "    <tr>\n",
       "      <th>13427</th>\n",
       "      <td>COVID booster: How to get a COVID-19 vaccine b...</td>\n",
       "    </tr>\n",
       "    <tr>\n",
       "      <th>13428</th>\n",
       "      <td>“Facing rising infections and a new COVID-19 v...</td>\n",
       "    </tr>\n",
       "    <tr>\n",
       "      <th>13429</th>\n",
       "      <td>We may receive compensation from affiliate par...</td>\n",
       "    </tr>\n",
       "  </tbody>\n",
       "</table>\n",
       "<p>12914 rows × 1 columns</p>\n",
       "</div>"
      ],
      "text/plain": [
       "                                            extract_text\n",
       "0      Corporate media is at it again, shilling for D...\n",
       "1      A report from the International Organisation f...\n",
       "2      Spain passed rules that prohibit adequate cool...\n",
       "3      A troubling survey commissioned by trade publi...\n",
       "4      Authored by Paul Joseph Watson via Summit News...\n",
       "...                                                  ...\n",
       "13424  \\n\\nNancy Hogshead-Makar says that men should ...\n",
       "13426  A New York state judge on Friday ordered the N...\n",
       "13427  COVID booster: How to get a COVID-19 vaccine b...\n",
       "13428  “Facing rising infections and a new COVID-19 v...\n",
       "13429  We may receive compensation from affiliate par...\n",
       "\n",
       "[12914 rows x 1 columns]"
      ]
     },
     "execution_count": 160,
     "metadata": {},
     "output_type": "execute_result"
    }
   ],
   "source": [
    "#Use merged_murltext.csv\n",
    "input_data=our_data[['extract_text', 'label']]\n",
    "input_data.iloc[:,:-1]"
   ]
  },
  {
   "cell_type": "code",
   "execution_count": 161,
   "metadata": {},
   "outputs": [],
   "source": [
    "full_data=pd.concat([input_data, le_d], axis=0)"
   ]
  },
  {
   "cell_type": "code",
   "execution_count": 162,
   "metadata": {},
   "outputs": [
    {
     "data": {
      "text/plain": [
       "38638"
      ]
     },
     "execution_count": 162,
     "metadata": {},
     "output_type": "execute_result"
    }
   ],
   "source": [
    "len(full_data)"
   ]
  },
  {
   "cell_type": "code",
   "execution_count": 164,
   "metadata": {},
   "outputs": [
    {
     "data": {
      "image/png": "[encoded data removed]",
      "text/plain": [
       "<Figure size 432x288 with 1 Axes>"
      ]
     },
     "metadata": {
      "needs_background": "light"
     },
     "output_type": "display_data"
    }
   ],
   "source": [
    "plt.hist(full_data.label)\n",
    "plt.show()"
   ]
  },
  {
   "cell_type": "code",
   "execution_count": 165,
   "metadata": {},
   "outputs": [
    {
     "data": {
      "text/html": [
       "<div>\n",
       "<style scoped>\n",
       "    .dataframe tbody tr th:only-of-type {\n",
       "        vertical-align: middle;\n",
       "    }\n",
       "\n",
       "    .dataframe tbody tr th {\n",
       "        vertical-align: top;\n",
       "    }\n",
       "\n",
       "    .dataframe thead th {\n",
       "        text-align: right;\n",
       "    }\n",
       "</style>\n",
       "<table border=\"1\" class=\"dataframe\">\n",
       "  <thead>\n",
       "    <tr style=\"text-align: right;\">\n",
       "      <th></th>\n",
       "      <th>extract_text</th>\n",
       "      <th>label</th>\n",
       "    </tr>\n",
       "  </thead>\n",
       "  <tbody>\n",
       "    <tr>\n",
       "      <th>0</th>\n",
       "      <td>Corporate media is at it again, shilling for D...</td>\n",
       "      <td>1.0</td>\n",
       "    </tr>\n",
       "    <tr>\n",
       "      <th>1</th>\n",
       "      <td>A report from the International Organisation f...</td>\n",
       "      <td>1.0</td>\n",
       "    </tr>\n",
       "    <tr>\n",
       "      <th>2</th>\n",
       "      <td>Spain passed rules that prohibit adequate cool...</td>\n",
       "      <td>1.0</td>\n",
       "    </tr>\n",
       "    <tr>\n",
       "      <th>3</th>\n",
       "      <td>A troubling survey commissioned by trade publi...</td>\n",
       "      <td>1.0</td>\n",
       "    </tr>\n",
       "    <tr>\n",
       "      <th>4</th>\n",
       "      <td>Authored by Paul Joseph Watson via Summit News...</td>\n",
       "      <td>1.0</td>\n",
       "    </tr>\n",
       "  </tbody>\n",
       "</table>\n",
       "</div>"
      ],
      "text/plain": [
       "                                        extract_text  label\n",
       "0  Corporate media is at it again, shilling for D...    1.0\n",
       "1  A report from the International Organisation f...    1.0\n",
       "2  Spain passed rules that prohibit adequate cool...    1.0\n",
       "3  A troubling survey commissioned by trade publi...    1.0\n",
       "4  Authored by Paul Joseph Watson via Summit News...    1.0"
      ]
     },
     "execution_count": 165,
     "metadata": {},
     "output_type": "execute_result"
    }
   ],
   "source": [
    "full_data.columns\n",
    "full_data.head()"
   ]
  },
  {
   "cell_type": "code",
   "execution_count": 166,
   "metadata": {},
   "outputs": [],
   "source": [
    "full_data['extract_text']=full_data['extract_text'].str.replace('\\n','')"
   ]
  },
  {
   "cell_type": "code",
   "execution_count": 167,
   "metadata": {},
   "outputs": [
    {
     "data": {
      "text/plain": [
       "'Corporate media is at it again, shilling for Democrats. The spin heading toward Labor Day is that Republican chances of winning a Senate majority are fading. A GOP takeover of the U.S. House hangs by a thread. Nonsense. In fact, Republicans are going to win a House majority and have a good shot of doing the same in the Senate.Of course, there are no guarantees -- life is like that -- but swallowing Mitch McConnell’s trash talk is foolish. McConnell is dissing some Republican Senate candidates as low quality. Mitch is being sly.McConnell is a notorious inside player with practically zero feel for voter sentiment (McConnell went to D.C. as an intern in 1964. The Swamp is in his blood). Old Man Mitch wants a GOP caucus he can control. Add Trump-endorsed senators to the mix and McConnell may face unwanted challenges to his leadership. McConnell, like most pols, is about power and money. Mitch doesn’t want the applecart upset with more Trump loyalists in his caucus.Right-thinking Americans should be hopeful about the GOP capturing the Senate.Campaigns don’t gear up until after Labor Day. Most voters don’t start focusing on politics until summer ends and kids are back in school. Horse race numbers before Labor Day are sketchy and the pastime of the political class.Midterm contests are about to begin in earnest, and voters have plenty of reasons to go the GOP’s way.Have you seen Joe Biden’s favorable/unfavorable numbers lately?As of this writing, Real Clear Politics’ job approval average for Biden shows the president underwater by 14.4%. 41.2% of voters approve Joe’s abysmal performance, while 55.6% sensibly disapprove.But get a load of these RCP averages for Biden’s handling of… the economy (35.6% approve/61% disapprove)… crime (36.7% approve/58.7% disapprove)… “immigration” -- meaning the border (34% approve/57.5% disapprove)What do you think? Do Biden’s wretched numbers bode well or ill for Democrat candidates running in even marginally competitive states and districts?How about the direction of the country? That’s right track/wrong track numbers.Again, the RCP average: Right Track: 23.4%. Wrong Track: 70.4%. That’s a whopping 47% gap in perceptions.With less than one out of every four Americans believing the country is a-okay, how does that help ruling Democrats? Do such bleak numbers make Democrats feel more or less confident about their election prospects?Biden’s job approval numbers have been underwater for months. He’s rivaling Jimmy Carter for bragging rights as the most unpopular president in modern times.Why are Americans so sour about the nation’s direction? Simple. Their daily lives are awful, the results of the Biden administration’ and congressional Democrats’ policies and governance.The big three issues vexing Americans have been mentioned: the economy, crime, and the border. Mix in government corruption for good measure. Add Merrick Garland unleashing the FBI on Mar-a-Lago. Add more than doubling the size of the IRS and arming its agents.Biden’s -- not Putin’s -- inflation and Biden’s -- not Vlad’s -- high energy costs are cutting deeply into paychecks and family budgets. Tens of millions of Americans are struggling to pay mortgages or rents, buy groceries, and gas up cars and trucks. Those are real world troubles.Voters are gearing up to throw out the rascals. In wave elections, voters sack the governing party without sweating much about the bona fides of the challengers. Wave elections tend to break late. Hence, the astonishment when a wave sweeps in larger numbers of out-party candidates than expected.That doesn’t mean that every Democrat will lose and every Republican wins. It means, on balance, Democrats are heading for a world of hurt. They’re nearly slam-dunk certain to lose the U.S. House. The GOP’s margin of victory is the question. A 35-seat gain for Republicans is realistic despite Fox News’ absurd hedging. Fox News claims that Republicans might win anywhere from 2-30 House seats. Two seats? Bull manure.From the Fox News report:What’s wrong with the Fox News analysis? Everything.First, Republicans traditionally trail Democrats in generic ballot polling. The Fox poll was conducted for registered, not likely, voters. Plenty of registered voters won’t vote. That Republicans are tied with Democrats among registered voters prior to Labor Day should worry Democrats.Second, Fox mentions that “Gas prices have eased a little.” Gas prices remain, on average, a whopping $2.00 a gallon higher today than when Trump left office. Does anyone seriously believe average income Americans are feeling any relief by a slight dip in sky-high gas prices?Third, Fox cites SCOTUS’ abortion ruling. Will it swing elections? Maybe in San Francisco, New York, and D.C.’s upscale suburbs. But it won’t be the decider for hard-pressed Americans. That includes Hispanics, Asians, and, perhaps, more blacks.Fourth, computer chip manufacturing legislation changes the equation for Democrats? Can working- and middle-class voters eat computer chips? Fill their gas tanks with them? Pay their mortgages or rent with them?Finally, any Democrat-backed climate measure translates into higher energy costs. How many Americans really trust Democrats with healthcare after having ObamaCare foisted on them?Look, Republicans need to pound away at the economy, crime, and border woes to persuade a lot of voters to come their way. They can and should raise Biden’s fitness to lead. They must discuss Biden’s and Democrats’ abuse of power. They need only remind voters that Democrats are going to sic the IRS on them.What about Democrats rigging elections? Depends on the state. States like Georgia and Wisconsin have made some reforms. Other states have tightened up. Pennsylvania -- an important swing state -- is a concern. Keystone State GOP lawmakers are suing to undo wide opened mail-in balloting, but that won’t matter now. Arizona has issues, too.But “No Questions” mail-in balloting in Pennsylvania, and it’s potential for abuse, is a separate question from whether or not Dr. Oz can defeat John Fetterman. Though Oz is a lackluster candidate -- to Oz’s credit, he’s been indefatigable, crisscrossing Pennsylvania campaigning -- he most certainly can beat Fetterman, who’s a kneejerk leftist and hampered by a recent stroke. Trafalgar Group has Fetterman up by only 4% as of August 18. Again, we’ll need to see polling post-Labor Day to get a truer read.Nonetheless, the GOP has good shots at converting Georgia, Nevada, and New Hampshire. Arizona and Pennsylvania are tougher gets, in part, for the reasons mentioned. Ron Johnson is always underrated in Wisconsin. Ohio should go to J.D. Vance. Budd wins North Carolina. Worth watching: Colorado. It may be a surprise GOP conversion.Got it: Republicans have no killer instinct. They possess an exquisite capacity for tripping over their own feet. Yes, election rigging could tip against the GOP. Other unknowns could influence outcomes. But Republicans may be swept into congressional majorities despite themselves. Believe it or not, it happens.J. Robert Smith can be found regularly at Gab @JRobertSmith. He also blogs at Flyover .Image: Thegreyanomaly'"
      ]
     },
     "execution_count": 167,
     "metadata": {},
     "output_type": "execute_result"
    }
   ],
   "source": [
    "type(full_data['extract_text'][0])\n",
    "full_data['extract_text'].iloc[0]"
   ]
  },
  {
   "cell_type": "code",
   "execution_count": 169,
   "metadata": {},
   "outputs": [],
   "source": [
    "X_train, X_test, y_train, y_test=train_test_split(full_data['extract_text'],  full_data['label'],  test_size=0.2, random_state=8)"
   ]
  },
  {
   "cell_type": "code",
   "execution_count": 170,
   "metadata": {},
   "outputs": [
    {
     "data": {
      "text/plain": [
       "30910"
      ]
     },
     "execution_count": 170,
     "metadata": {},
     "output_type": "execute_result"
    }
   ],
   "source": [
    "len(X_train)"
   ]
  },
  {
   "cell_type": "code",
   "execution_count": 171,
   "metadata": {},
   "outputs": [
    {
     "data": {
      "text/plain": [
       "7733     Texas Can’t Force Out-of-State Citizens to Pay...\n",
       "6655     The Deal Has Already Been Made: DeSantis To Ru...\n",
       "15501    U.S. seizes Russian oligarch’s 256-foot supery...\n",
       "1640     REPORT: FBI Was After Documents Trump Believed...\n",
       "5859     On June 8, 26-year-old Nicholas John Roske of ...\n",
       "                               ...                        \n",
       "14544    Psaki Admits Forced Masking on Planes is About...\n",
       "1370     New Jersey Governor Ends Key COVID-19 Mandate ...\n",
       "8807     Feds withholding info about deletion of Covid ...\n",
       "15750    Good Stuff - Lynyrd Skynyrd Lead Vocalist Reco...\n",
       "10955    Rep. Elise Stefanik: Nobody Cares About Januar...\n",
       "Name: extract_text, Length: 7728, dtype: object"
      ]
     },
     "execution_count": 171,
     "metadata": {},
     "output_type": "execute_result"
    }
   ],
   "source": [
    "X_train\n",
    "X_test"
   ]
  },
  {
   "cell_type": "code",
   "execution_count": 106,
   "metadata": {
    "execution": {
     "iopub.execute_input": "2021-02-02T18:51:56.859353Z",
     "iopub.status.busy": "2021-02-02T18:51:56.858461Z",
     "iopub.status.idle": "2021-02-02T18:51:57.817676Z",
     "shell.execute_reply": "2021-02-02T18:51:57.815788Z"
    },
    "papermill": {
     "duration": 0.994517,
     "end_time": "2021-02-02T18:51:57.817858",
     "exception": false,
     "start_time": "2021-02-02T18:51:56.823341",
     "status": "completed"
    },
    "tags": []
   },
   "outputs": [],
   "source": [
    "# train=pd.read_csv(\"/Users/anthonychen/Downloads/train_fnd.csv\", sep='\\t', encoding='utf-8')\n",
    "# test = pd.read_csv(\"/Users/anthonychen/Downloads/test_fnd.csv\", sep='\\t', encoding='utf-8')\n",
    "# #submission = pd.read_csv(\"/kaggle/input/fakenewskdd2020/sample_submission.csv\")\n",
    "# train.head()"
   ]
  },
  {
   "cell_type": "code",
   "execution_count": 107,
   "metadata": {},
   "outputs": [],
   "source": [
    "# #nontokenized; remove new line\n",
    "# train['text'][0]"
   ]
  },
  {
   "attachments": {},
   "cell_type": "markdown",
   "metadata": {
    "papermill": {
     "duration": 0.049394,
     "end_time": "2021-02-02T18:51:57.911696",
     "exception": false,
     "start_time": "2021-02-02T18:51:57.862302",
     "status": "completed"
    },
    "tags": []
   },
   "source": [
    "Eğitim Veri Setinin Boyutu : (4987,2)\n",
    "\n",
    "Test Veri Setinin Boyutu :  (1247, 2)\n",
    "\n",
    "Hem eğitim hem de test veri setleri içerisinde boş(null) değer yoktur.\n"
   ]
  },
  {
   "cell_type": "code",
   "execution_count": 108,
   "metadata": {
    "execution": {
     "iopub.execute_input": "2021-02-02T18:51:58.014971Z",
     "iopub.status.busy": "2021-02-02T18:51:58.014134Z",
     "iopub.status.idle": "2021-02-02T18:51:58.019307Z",
     "shell.execute_reply": "2021-02-02T18:51:58.019965Z"
    },
    "papermill": {
     "duration": 0.059185,
     "end_time": "2021-02-02T18:51:58.020223",
     "exception": false,
     "start_time": "2021-02-02T18:51:57.961038",
     "status": "completed"
    },
    "tags": []
   },
   "outputs": [],
   "source": [
    "# print(f\"Eğitim Verisinin Boyutu = {train.shape}\")\n",
    "# print(f\"Test Verisinin Boyutu = {test.shape}\")"
   ]
  },
  {
   "cell_type": "code",
   "execution_count": 109,
   "metadata": {
    "execution": {
     "iopub.execute_input": "2021-02-02T18:51:58.091848Z",
     "iopub.status.busy": "2021-02-02T18:51:58.091150Z",
     "iopub.status.idle": "2021-02-02T18:51:58.109350Z",
     "shell.execute_reply": "2021-02-02T18:51:58.108733Z"
    },
    "papermill": {
     "duration": 0.055022,
     "end_time": "2021-02-02T18:51:58.109595",
     "exception": false,
     "start_time": "2021-02-02T18:51:58.054573",
     "status": "completed"
    },
    "tags": []
   },
   "outputs": [],
   "source": [
    "# train.info()"
   ]
  },
  {
   "cell_type": "code",
   "execution_count": 110,
   "metadata": {
    "execution": {
     "iopub.execute_input": "2021-02-02T18:51:58.195760Z",
     "iopub.status.busy": "2021-02-02T18:51:58.195003Z",
     "iopub.status.idle": "2021-02-02T18:51:58.200354Z",
     "shell.execute_reply": "2021-02-02T18:51:58.199744Z"
    },
    "papermill": {
     "duration": 0.055932,
     "end_time": "2021-02-02T18:51:58.200514",
     "exception": false,
     "start_time": "2021-02-02T18:51:58.144582",
     "status": "completed"
    },
    "tags": []
   },
   "outputs": [],
   "source": [
    "#test.info()"
   ]
  },
  {
   "cell_type": "code",
   "execution_count": 111,
   "metadata": {
    "execution": {
     "iopub.execute_input": "2021-02-02T18:51:58.280404Z",
     "iopub.status.busy": "2021-02-02T18:51:58.279464Z",
     "iopub.status.idle": "2021-02-02T18:51:58.284970Z",
     "shell.execute_reply": "2021-02-02T18:51:58.284434Z"
    },
    "papermill": {
     "duration": 0.049957,
     "end_time": "2021-02-02T18:51:58.285103",
     "exception": false,
     "start_time": "2021-02-02T18:51:58.235146",
     "status": "completed"
    },
    "tags": []
   },
   "outputs": [],
   "source": [
    "# print(f\"Eğitim Veri Seti Null Değer Kontrolü = \\n {train.isnull().sum()}\")\n",
    "# print(f\"Eğitim Veri Seti Null Değer Kontrolü = \\n{test.isnull().sum()}\")"
   ]
  },
  {
   "cell_type": "code",
   "execution_count": 172,
   "metadata": {
    "execution": {
     "iopub.execute_input": "2021-02-02T18:51:58.381729Z",
     "iopub.status.busy": "2021-02-02T18:51:58.367124Z",
     "iopub.status.idle": "2021-02-02T18:51:58.592750Z",
     "shell.execute_reply": "2021-02-02T18:51:58.593298Z"
    },
    "papermill": {
     "duration": 0.272174,
     "end_time": "2021-02-02T18:51:58.593472",
     "exception": false,
     "start_time": "2021-02-02T18:51:58.321298",
     "status": "completed"
    },
    "tags": []
   },
   "outputs": [
    {
     "data": {
      "text/plain": [
       "Text(0.5, 1.0, 'Veri Setinin Dağılımı')"
      ]
     },
     "execution_count": 172,
     "metadata": {},
     "output_type": "execute_result"
    },
    {
     "data": {
      "image/png": "[encoded data removed]",
      "text/plain": [
       "<Figure size 504x504 with 1 Axes>"
      ]
     },
     "metadata": {},
     "output_type": "display_data"
    }
   ],
   "source": [
    "plt.figure(figsize=(7,7))\n",
    "\n",
    "value_count = y_train.value_counts() #we can see there's an imbalanced dataset \n",
    "\n",
    "\n",
    "plt.pie(value_count, labels=value_count.index ,\n",
    "        startangle = 90 ,counterclock =False, wedgeprops = {'width' : 0.6},\n",
    "        autopct='%1.1f%%', pctdistance = 0.7, textprops = {'color': 'black', 'fontsize' : 18}, \n",
    "        shadow = True,colors = sns.color_palette(\"Paired\")[7:])\n",
    "plt.text(x = -0.25, y=0,s =\"Toplam Veri :{}\".format(X_train.shape[0]))\n",
    "plt.title(\"Veri Setinin Dağılımı\",size=15)\n"
   ]
  },
  {
   "cell_type": "code",
   "execution_count": 173,
   "metadata": {},
   "outputs": [],
   "source": [
    "type(X_train)\n",
    "X_train=X_train.to_frame()"
   ]
  },
  {
   "cell_type": "code",
   "execution_count": 174,
   "metadata": {
    "execution": {
     "iopub.execute_input": "2021-02-02T18:51:58.675532Z",
     "iopub.status.busy": "2021-02-02T18:51:58.674496Z",
     "iopub.status.idle": "2021-02-02T18:52:13.235004Z",
     "shell.execute_reply": "2021-02-02T18:52:13.235974Z"
    },
    "papermill": {
     "duration": 14.604841,
     "end_time": "2021-02-02T18:52:13.236255",
     "exception": false,
     "start_time": "2021-02-02T18:51:58.631414",
     "status": "completed"
    },
    "tags": []
   },
   "outputs": [
    {
     "name": "stdout",
     "output_type": "stream",
     "text": [
      "<class 'list'>\n"
     ]
    },
    {
     "data": {
      "text/plain": [
       "(-0.5, 399.5, 199.5, -0.5)"
      ]
     },
     "execution_count": 174,
     "metadata": {},
     "output_type": "execute_result"
    },
    {
     "data": {
      "image/png": "[encoded data removed]",
      "text/plain": [
       "<Figure size 720x720 with 1 Axes>"
      ]
     },
     "metadata": {
      "needs_background": "light"
     },
     "output_type": "display_data"
    }
   ],
   "source": [
    "from wordcloud import WordCloud\n",
    "#Kelime Bulutu (wordCloud) İle Veri Setinin Görselleştirilmesi\n",
    "\n",
    "cloud = [str(x) for x in X_train.values.tolist()]\n",
    "print(type(cloud))\n",
    "cloud_st = \" \".join(cloud)\n",
    "plt.figure(figsize=(10,10))\n",
    "plt.imshow(WordCloud().generate(cloud_st))\n",
    "plt.axis(\"off\")"
   ]
  },
  {
   "cell_type": "code",
   "execution_count": 115,
   "metadata": {
    "execution": {
     "iopub.execute_input": "2021-02-02T18:52:13.372713Z",
     "iopub.status.busy": "2021-02-02T18:52:13.371705Z",
     "iopub.status.idle": "2021-02-02T18:52:13.599897Z",
     "shell.execute_reply": "2021-02-02T18:52:13.599374Z"
    },
    "papermill": {
     "duration": 0.300063,
     "end_time": "2021-02-02T18:52:13.600040",
     "exception": false,
     "start_time": "2021-02-02T18:52:13.299977",
     "status": "completed"
    },
    "tags": []
   },
   "outputs": [],
   "source": [
    "# plt.figure(figsize=(10,6))\n",
    "# plt.hist(train[train[\"label\"]==\"0\"][\"text\"].str.len(),label=\"Gerçek Haber\",color=\"red\") #real news\n",
    "# plt.hist(train[train[\"label\"]==\"1\"][\"text\"].str.len(),label=\"Sahte Haber\",color=\"b\") #fake news\n",
    "# plt.xlabel(\"Karakter Uzunluk\",size=15)\n",
    "# plt.ylabel(\"frekans\",size=15)\n",
    "# #fake news and real news by character length\n",
    "# plt.title(\"Karakter Uzunluklarına Göre Sahte Haber ve Verçek Haberler\",size=12)\n",
    "# plt.legend(loc=\"best\")\n",
    "# plt.show()"
   ]
  },
  {
   "cell_type": "code",
   "execution_count": 116,
   "metadata": {
    "execution": {
     "iopub.execute_input": "2021-02-02T18:52:13.698626Z",
     "iopub.status.busy": "2021-02-02T18:52:13.697920Z",
     "iopub.status.idle": "2021-02-02T18:52:14.298832Z",
     "shell.execute_reply": "2021-02-02T18:52:14.298224Z"
    },
    "papermill": {
     "duration": 0.655507,
     "end_time": "2021-02-02T18:52:14.298986",
     "exception": false,
     "start_time": "2021-02-02T18:52:13.643479",
     "status": "completed"
    },
    "tags": []
   },
   "outputs": [],
   "source": [
    "# plt.figure(figsize=(10,6))\n",
    "# plt.hist(train[train[\"label\"]==\"0\"][\"text\"].str.split().map(lambda x: len(x)),label=\"Doğru Haber\",color=\"red\")   #True News\n",
    "# plt.hist(train[train[\"label\"]==\"1\"][\"text\"].str.split().map(lambda x: len(x)),label=\"Sahte Haber\",color=\"b\")\n",
    "\n",
    "# plt.xlabel(\"Kelime Uzunluğu\",size =15)\n",
    "# plt.ylabel(\"Frekans\",size=15)\n",
    "# plt.title(\"Kelime Uzunlukluklarına Göre Verilerin Dağılımı\") #Distribution of Data by Word Lengths\n",
    "# plt.legend(loc=\"best\")\n",
    "# plt.show()"
   ]
  },
  {
   "cell_type": "code",
   "execution_count": 117,
   "metadata": {
    "execution": {
     "iopub.execute_input": "2021-02-02T18:52:14.395001Z",
     "iopub.status.busy": "2021-02-02T18:52:14.394389Z",
     "iopub.status.idle": "2021-02-02T18:52:14.398738Z",
     "shell.execute_reply": "2021-02-02T18:52:14.397968Z"
    },
    "papermill": {
     "duration": 0.054187,
     "end_time": "2021-02-02T18:52:14.398889",
     "exception": false,
     "start_time": "2021-02-02T18:52:14.344702",
     "status": "completed"
    },
    "tags": []
   },
   "outputs": [],
   "source": [
    "# a = train[\"text\"].tolist()\n",
    "#print(a)"
   ]
  },
  {
   "attachments": {
    "1.png": {
     "image/png": "[encoded data removed]"
    }
   },
   "cell_type": "markdown",
   "metadata": {
    "papermill": {
     "duration": 0.044459,
     "end_time": "2021-02-02T18:52:14.488288",
     "exception": false,
     "start_time": "2021-02-02T18:52:14.443829",
     "status": "completed"
    },
    "tags": []
   },
   "source": [
    "Veri Setine ilk bakışta veri seti içerisinde özel karakterlerin , url'lerin ve emojilerin olduğunu gözlemliyoruz.\n",
    "Veri önişleme safahasında oluşturacağımız modele negatif yönde etkileyecek bu verilerin silinmesi işlemini gerçekleştireceğiz.\n",
    "\n",
    "\n",
    "![1.png](attachment:1.png)"
   ]
  },
  {
   "attachments": {},
   "cell_type": "markdown",
   "metadata": {
    "papermill": {
     "duration": 0.045016,
     "end_time": "2021-02-02T18:52:14.577795",
     "exception": false,
     "start_time": "2021-02-02T18:52:14.532779",
     "status": "completed"
    },
    "tags": []
   },
   "source": [
    "Within the information we obtain during exploratory data analysis, the data set includes; * Cleaning URLs * Clearing Special Characters and Numeric Emoticons * Conversion of characters to lowercase * Stop Words * Performing the Lemmatization Process * Deletion of Noisy Data We will carry out the operations.\n",
    "\n",
    "<a id=\"2\"></a> <br>\n",
    "# Veri Ön İşleme\n",
    "\n",
    "Keşifsel veri analizi sırasında elde ettiğimiz bilgilere dahilinde veri seti içerisinde bulunan ;\n",
    "* URL'leri Temizleme\n",
    "* Özel Karakterlerin ve Numeric İfadelerin Temizlenmesi\n",
    "* Karakterlerin Küçük Harfe Çevrilmesi\n",
    "* Etkisiz Kelimelerin Çıkalıması (Stop Words)\n",
    "* Lematizasyon İşleminin Gerçekleştirilmesi\n",
    "* Gürültülü Verilerin Silinmesi \n",
    "\n",
    "İşlemlerini gerçekleştireceğiz.\n",
    " #Within the information we obtain during exploratory data analysis, the data set includes; * Cleaning URLs * Clearing Special Characters and Numeric Emoticons * Conversion of characters to lowercase * Stop Words * Performing the Lemmatization Process * Deletion of Noisy Data We will carry out the operations."
   ]
  },
  {
   "cell_type": "code",
   "execution_count": 175,
   "metadata": {},
   "outputs": [
    {
     "data": {
      "text/html": [
       "<div>\n",
       "<style scoped>\n",
       "    .dataframe tbody tr th:only-of-type {\n",
       "        vertical-align: middle;\n",
       "    }\n",
       "\n",
       "    .dataframe tbody tr th {\n",
       "        vertical-align: top;\n",
       "    }\n",
       "\n",
       "    .dataframe thead th {\n",
       "        text-align: right;\n",
       "    }\n",
       "</style>\n",
       "<table border=\"1\" class=\"dataframe\">\n",
       "  <thead>\n",
       "    <tr style=\"text-align: right;\">\n",
       "      <th></th>\n",
       "      <th>extract_text</th>\n",
       "    </tr>\n",
       "  </thead>\n",
       "  <tbody>\n",
       "    <tr>\n",
       "      <th>2478</th>\n",
       "      <td>Obama Caught On Video: \"You Just Have To...\" S...</td>\n",
       "    </tr>\n",
       "    <tr>\n",
       "      <th>16520</th>\n",
       "      <td>Insurance Compaines Prepare To Deny Life Insur...</td>\n",
       "    </tr>\n",
       "    <tr>\n",
       "      <th>3780</th>\n",
       "      <td>(Natural News) In today’s podcast, I discuss a...</td>\n",
       "    </tr>\n",
       "    <tr>\n",
       "      <th>20429</th>\n",
       "      <td>Ukraine president walks back statement that Ru...</td>\n",
       "    </tr>\n",
       "    <tr>\n",
       "      <th>23184</th>\n",
       "      <td>EXCLUSIVE: Cyber Ninjas CEO Doug Logan Respond...</td>\n",
       "    </tr>\n",
       "    <tr>\n",
       "      <th>...</th>\n",
       "      <td>...</td>\n",
       "    </tr>\n",
       "    <tr>\n",
       "      <th>10718</th>\n",
       "      <td>President Trump endorsed Vernon Jones for Cong...</td>\n",
       "    </tr>\n",
       "    <tr>\n",
       "      <th>22038</th>\n",
       "      <td>WAYNE ROOT: We are in a Civil War. It’s a War ...</td>\n",
       "    </tr>\n",
       "    <tr>\n",
       "      <th>5503</th>\n",
       "      <td>108 ARRESTED IN CHILD TRAFFICKING STING🚨🚔 4 DI...</td>\n",
       "    </tr>\n",
       "    <tr>\n",
       "      <th>13027</th>\n",
       "      <td>Leaked Audio Catches Lindsey Graham Stabbing T...</td>\n",
       "    </tr>\n",
       "    <tr>\n",
       "      <th>4632</th>\n",
       "      <td>Authored by Paul Joseph Watson via Summit News...</td>\n",
       "    </tr>\n",
       "  </tbody>\n",
       "</table>\n",
       "<p>30910 rows × 1 columns</p>\n",
       "</div>"
      ],
      "text/plain": [
       "                                            extract_text\n",
       "2478   Obama Caught On Video: \"You Just Have To...\" S...\n",
       "16520  Insurance Compaines Prepare To Deny Life Insur...\n",
       "3780   (Natural News) In today’s podcast, I discuss a...\n",
       "20429  Ukraine president walks back statement that Ru...\n",
       "23184  EXCLUSIVE: Cyber Ninjas CEO Doug Logan Respond...\n",
       "...                                                  ...\n",
       "10718  President Trump endorsed Vernon Jones for Cong...\n",
       "22038  WAYNE ROOT: We are in a Civil War. It’s a War ...\n",
       "5503   108 ARRESTED IN CHILD TRAFFICKING STING🚨🚔 4 DI...\n",
       "13027  Leaked Audio Catches Lindsey Graham Stabbing T...\n",
       "4632   Authored by Paul Joseph Watson via Summit News...\n",
       "\n",
       "[30910 rows x 1 columns]"
      ]
     },
     "execution_count": 175,
     "metadata": {},
     "output_type": "execute_result"
    }
   ],
   "source": [
    "X_train"
   ]
  },
  {
   "cell_type": "code",
   "execution_count": 176,
   "metadata": {
    "execution": {
     "iopub.execute_input": "2021-02-02T18:52:14.672180Z",
     "iopub.status.busy": "2021-02-02T18:52:14.671523Z",
     "iopub.status.idle": "2021-02-02T18:52:49.353889Z",
     "shell.execute_reply": "2021-02-02T18:52:49.354777Z"
    },
    "papermill": {
     "duration": 34.732059,
     "end_time": "2021-02-02T18:52:49.354959",
     "exception": false,
     "start_time": "2021-02-02T18:52:14.622900",
     "status": "completed"
    },
    "tags": []
   },
   "outputs": [
    {
     "name": "stderr",
     "output_type": "stream",
     "text": [
      "[nltk_data] Downloading package stopwords to\n",
      "[nltk_data]     /Users/anthonychen/nltk_data...\n",
      "[nltk_data]   Package stopwords is already up-to-date!\n",
      "[nltk_data] Downloading package punkt to\n",
      "[nltk_data]     /Users/anthonychen/nltk_data...\n",
      "[nltk_data]   Package punkt is already up-to-date!\n",
      "[nltk_data] Downloading package wordnet to\n",
      "[nltk_data]     /Users/anthonychen/nltk_data...\n",
      "[nltk_data]   Package wordnet is already up-to-date!\n"
     ]
    }
   ],
   "source": [
    "import nltk\n",
    "nltk.download('stopwords')\n",
    "nltk.download('punkt')\n",
    "nltk.download('wordnet')\n",
    "\n",
    "stop_words = set(stopwords.words(\"english\"))\n",
    "lemma = WordNetLemmatizer()\n",
    "\n",
    "def cleaning_data(text):\n",
    "    text = re.sub(r'http\\S+','',text)                \n",
    "    #Url'lerin temizlenmesi                \n",
    "    text = re.sub('[^a-zA-Z]',' ',text)              \n",
    "    # Özel karakterlerin ve numarların temizlenmesi\n",
    "    text = str(text).lower()                          \n",
    "    #Bütün karakterlerin küçük harfe dönüşütürülmesi\n",
    "    text = word_tokenize(text)                        \n",
    "    #Verilerin Tokenlara ayrılması\n",
    "    text = [i for i in text if i not in stop_words]   \n",
    "    # Etkisiz kelimelerin çıkartılması\n",
    "    text = [lemma.lemmatize(word= j, pos=\"v\") for j in text] \n",
    "    # Lemmatizasyon işleminin gerçekleştirilmesi\n",
    "    text = [k for k in text  if len(k) >2]            \n",
    "    #karkater boyutu 2 den düşük olanların veri setinden atılması (gürültülü verilerin kaldırılması)\n",
    "    text = \" \".join(text)                             \n",
    "    return text\n",
    "\n",
    "#X_train=X_train.to_frame()\n",
    "X_train[\"cleaning_data\"] = X_train[\"extract_text\"].apply(cleaning_data) # Bu yapıyı Test veri setinde de kullanacaksın"
   ]
  },
  {
   "cell_type": "code",
   "execution_count": 177,
   "metadata": {},
   "outputs": [
    {
     "data": {
      "text/html": [
       "<div>\n",
       "<style scoped>\n",
       "    .dataframe tbody tr th:only-of-type {\n",
       "        vertical-align: middle;\n",
       "    }\n",
       "\n",
       "    .dataframe tbody tr th {\n",
       "        vertical-align: top;\n",
       "    }\n",
       "\n",
       "    .dataframe thead th {\n",
       "        text-align: right;\n",
       "    }\n",
       "</style>\n",
       "<table border=\"1\" class=\"dataframe\">\n",
       "  <thead>\n",
       "    <tr style=\"text-align: right;\">\n",
       "      <th></th>\n",
       "      <th>extract_text</th>\n",
       "      <th>cleaning_data</th>\n",
       "    </tr>\n",
       "  </thead>\n",
       "  <tbody>\n",
       "    <tr>\n",
       "      <th>2478</th>\n",
       "      <td>Obama Caught On Video: \"You Just Have To...\" S...</td>\n",
       "      <td>obama catch video skip main content home get a...</td>\n",
       "    </tr>\n",
       "    <tr>\n",
       "      <th>16520</th>\n",
       "      <td>Insurance Compaines Prepare To Deny Life Insur...</td>\n",
       "      <td>insurance compaines prepare deny life insuranc...</td>\n",
       "    </tr>\n",
       "    <tr>\n",
       "      <th>3780</th>\n",
       "      <td>(Natural News) In today’s podcast, I discuss a...</td>\n",
       "      <td>natural news today podcast discuss interview c...</td>\n",
       "    </tr>\n",
       "    <tr>\n",
       "      <th>20429</th>\n",
       "      <td>Ukraine president walks back statement that Ru...</td>\n",
       "      <td>ukraine president walk back statement russia a...</td>\n",
       "    </tr>\n",
       "    <tr>\n",
       "      <th>23184</th>\n",
       "      <td>EXCLUSIVE: Cyber Ninjas CEO Doug Logan Respond...</td>\n",
       "      <td>exclusive cyber ninjas ceo doug logan respond ...</td>\n",
       "    </tr>\n",
       "    <tr>\n",
       "      <th>...</th>\n",
       "      <td>...</td>\n",
       "      <td>...</td>\n",
       "    </tr>\n",
       "    <tr>\n",
       "      <th>10718</th>\n",
       "      <td>President Trump endorsed Vernon Jones for Cong...</td>\n",
       "      <td>president trump endorse vernon jones congress ...</td>\n",
       "    </tr>\n",
       "    <tr>\n",
       "      <th>22038</th>\n",
       "      <td>WAYNE ROOT: We are in a Civil War. It’s a War ...</td>\n",
       "      <td>wayne root civil war war good evil democrats c...</td>\n",
       "    </tr>\n",
       "    <tr>\n",
       "      <th>5503</th>\n",
       "      <td>108 ARRESTED IN CHILD TRAFFICKING STING🚨🚔 4 DI...</td>\n",
       "      <td>arrest child traffic sting disney employees ju...</td>\n",
       "    </tr>\n",
       "    <tr>\n",
       "      <th>13027</th>\n",
       "      <td>Leaked Audio Catches Lindsey Graham Stabbing T...</td>\n",
       "      <td>leak audio catch lindsey graham stab trump bac...</td>\n",
       "    </tr>\n",
       "    <tr>\n",
       "      <th>4632</th>\n",
       "      <td>Authored by Paul Joseph Watson via Summit News...</td>\n",
       "      <td>author paul joseph watson via summit news form...</td>\n",
       "    </tr>\n",
       "  </tbody>\n",
       "</table>\n",
       "<p>30910 rows × 2 columns</p>\n",
       "</div>"
      ],
      "text/plain": [
       "                                            extract_text  \\\n",
       "2478   Obama Caught On Video: \"You Just Have To...\" S...   \n",
       "16520  Insurance Compaines Prepare To Deny Life Insur...   \n",
       "3780   (Natural News) In today’s podcast, I discuss a...   \n",
       "20429  Ukraine president walks back statement that Ru...   \n",
       "23184  EXCLUSIVE: Cyber Ninjas CEO Doug Logan Respond...   \n",
       "...                                                  ...   \n",
       "10718  President Trump endorsed Vernon Jones for Cong...   \n",
       "22038  WAYNE ROOT: We are in a Civil War. It’s a War ...   \n",
       "5503   108 ARRESTED IN CHILD TRAFFICKING STING🚨🚔 4 DI...   \n",
       "13027  Leaked Audio Catches Lindsey Graham Stabbing T...   \n",
       "4632   Authored by Paul Joseph Watson via Summit News...   \n",
       "\n",
       "                                           cleaning_data  \n",
       "2478   obama catch video skip main content home get a...  \n",
       "16520  insurance compaines prepare deny life insuranc...  \n",
       "3780   natural news today podcast discuss interview c...  \n",
       "20429  ukraine president walk back statement russia a...  \n",
       "23184  exclusive cyber ninjas ceo doug logan respond ...  \n",
       "...                                                  ...  \n",
       "10718  president trump endorse vernon jones congress ...  \n",
       "22038  wayne root civil war war good evil democrats c...  \n",
       "5503   arrest child traffic sting disney employees ju...  \n",
       "13027  leak audio catch lindsey graham stab trump bac...  \n",
       "4632   author paul joseph watson via summit news form...  \n",
       "\n",
       "[30910 rows x 2 columns]"
      ]
     },
     "execution_count": 177,
     "metadata": {},
     "output_type": "execute_result"
    }
   ],
   "source": [
    "X_train"
   ]
  },
  {
   "cell_type": "code",
   "execution_count": 178,
   "metadata": {},
   "outputs": [
    {
     "data": {
      "text/html": [
       "<div>\n",
       "<style scoped>\n",
       "    .dataframe tbody tr th:only-of-type {\n",
       "        vertical-align: middle;\n",
       "    }\n",
       "\n",
       "    .dataframe tbody tr th {\n",
       "        vertical-align: top;\n",
       "    }\n",
       "\n",
       "    .dataframe thead th {\n",
       "        text-align: right;\n",
       "    }\n",
       "</style>\n",
       "<table border=\"1\" class=\"dataframe\">\n",
       "  <thead>\n",
       "    <tr style=\"text-align: right;\">\n",
       "      <th></th>\n",
       "      <th>extract_text</th>\n",
       "      <th>cleaning_data</th>\n",
       "    </tr>\n",
       "  </thead>\n",
       "  <tbody>\n",
       "    <tr>\n",
       "      <th>7733</th>\n",
       "      <td>Texas Can’t Force Out-of-State Citizens to Pay...</td>\n",
       "      <td>texas force state citizens pay higher college ...</td>\n",
       "    </tr>\n",
       "    <tr>\n",
       "      <th>6655</th>\n",
       "      <td>The Deal Has Already Been Made: DeSantis To Ru...</td>\n",
       "      <td>deal already make desantis run trump accord re...</td>\n",
       "    </tr>\n",
       "    <tr>\n",
       "      <th>15501</th>\n",
       "      <td>U.S. seizes Russian oligarch’s 256-foot supery...</td>\n",
       "      <td>seize russian oligarch foot superyacht spain a...</td>\n",
       "    </tr>\n",
       "    <tr>\n",
       "      <th>1640</th>\n",
       "      <td>REPORT: FBI Was After Documents Trump Believed...</td>\n",
       "      <td>report fbi document trump believe would exoner...</td>\n",
       "    </tr>\n",
       "    <tr>\n",
       "      <th>5859</th>\n",
       "      <td>On June 8, 26-year-old Nicholas John Roske of ...</td>\n",
       "      <td>june year old nicholas john roske california c...</td>\n",
       "    </tr>\n",
       "    <tr>\n",
       "      <th>...</th>\n",
       "      <td>...</td>\n",
       "      <td>...</td>\n",
       "    </tr>\n",
       "    <tr>\n",
       "      <th>14544</th>\n",
       "      <td>Psaki Admits Forced Masking on Planes is About...</td>\n",
       "      <td>psaki admit force mask plan preserve power vid...</td>\n",
       "    </tr>\n",
       "    <tr>\n",
       "      <th>1370</th>\n",
       "      <td>New Jersey Governor Ends Key COVID-19 Mandate ...</td>\n",
       "      <td>new jersey governor end key covid mandate unva...</td>\n",
       "    </tr>\n",
       "    <tr>\n",
       "      <th>8807</th>\n",
       "      <td>Feds withholding info about deletion of Covid ...</td>\n",
       "      <td>feds withhold info deletion covid genetic data...</td>\n",
       "    </tr>\n",
       "    <tr>\n",
       "      <th>15750</th>\n",
       "      <td>Good Stuff - Lynyrd Skynyrd Lead Vocalist Reco...</td>\n",
       "      <td>good stuff lynyrd skynyrd lead vocalist record...</td>\n",
       "    </tr>\n",
       "    <tr>\n",
       "      <th>10955</th>\n",
       "      <td>Rep. Elise Stefanik: Nobody Cares About Januar...</td>\n",
       "      <td>rep elise stefanik nobody care january economy...</td>\n",
       "    </tr>\n",
       "  </tbody>\n",
       "</table>\n",
       "<p>7728 rows × 2 columns</p>\n",
       "</div>"
      ],
      "text/plain": [
       "                                            extract_text  \\\n",
       "7733   Texas Can’t Force Out-of-State Citizens to Pay...   \n",
       "6655   The Deal Has Already Been Made: DeSantis To Ru...   \n",
       "15501  U.S. seizes Russian oligarch’s 256-foot supery...   \n",
       "1640   REPORT: FBI Was After Documents Trump Believed...   \n",
       "5859   On June 8, 26-year-old Nicholas John Roske of ...   \n",
       "...                                                  ...   \n",
       "14544  Psaki Admits Forced Masking on Planes is About...   \n",
       "1370   New Jersey Governor Ends Key COVID-19 Mandate ...   \n",
       "8807   Feds withholding info about deletion of Covid ...   \n",
       "15750  Good Stuff - Lynyrd Skynyrd Lead Vocalist Reco...   \n",
       "10955  Rep. Elise Stefanik: Nobody Cares About Januar...   \n",
       "\n",
       "                                           cleaning_data  \n",
       "7733   texas force state citizens pay higher college ...  \n",
       "6655   deal already make desantis run trump accord re...  \n",
       "15501  seize russian oligarch foot superyacht spain a...  \n",
       "1640   report fbi document trump believe would exoner...  \n",
       "5859   june year old nicholas john roske california c...  \n",
       "...                                                  ...  \n",
       "14544  psaki admit force mask plan preserve power vid...  \n",
       "1370   new jersey governor end key covid mandate unva...  \n",
       "8807   feds withhold info deletion covid genetic data...  \n",
       "15750  good stuff lynyrd skynyrd lead vocalist record...  \n",
       "10955  rep elise stefanik nobody care january economy...  \n",
       "\n",
       "[7728 rows x 2 columns]"
      ]
     },
     "execution_count": 178,
     "metadata": {},
     "output_type": "execute_result"
    }
   ],
   "source": [
    "X_test=X_test.to_frame()\n",
    "X_test[\"cleaning_data\"] = X_test[\"extract_text\"].apply(cleaning_data)\n",
    "X_test"
   ]
  },
  {
   "cell_type": "code",
   "execution_count": 122,
   "metadata": {},
   "outputs": [],
   "source": [
    "# X_test=X_test.to_frame()\n",
    "# X_test[\"cleaning_data\"] = X_test[\"extract_text\"].apply(cleaning_data) "
   ]
  },
  {
   "cell_type": "code",
   "execution_count": 179,
   "metadata": {},
   "outputs": [
    {
     "data": {
      "text/plain": [
       "(7728, 2)"
      ]
     },
     "execution_count": 179,
     "metadata": {},
     "output_type": "execute_result"
    }
   ],
   "source": [
    "X_train.shape\n",
    "X_test.shape"
   ]
  },
  {
   "cell_type": "code",
   "execution_count": 180,
   "metadata": {
    "execution": {
     "iopub.execute_input": "2021-02-02T18:52:49.464808Z",
     "iopub.status.busy": "2021-02-02T18:52:49.463941Z",
     "iopub.status.idle": "2021-02-02T18:52:49.467535Z",
     "shell.execute_reply": "2021-02-02T18:52:49.468224Z"
    },
    "papermill": {
     "duration": 0.06835,
     "end_time": "2021-02-02T18:52:49.468443",
     "exception": false,
     "start_time": "2021-02-02T18:52:49.400093",
     "status": "completed"
    },
    "tags": []
   },
   "outputs": [
    {
     "data": {
      "text/html": [
       "<div>\n",
       "<style scoped>\n",
       "    .dataframe tbody tr th:only-of-type {\n",
       "        vertical-align: middle;\n",
       "    }\n",
       "\n",
       "    .dataframe tbody tr th {\n",
       "        vertical-align: top;\n",
       "    }\n",
       "\n",
       "    .dataframe thead th {\n",
       "        text-align: right;\n",
       "    }\n",
       "</style>\n",
       "<table border=\"1\" class=\"dataframe\">\n",
       "  <thead>\n",
       "    <tr style=\"text-align: right;\">\n",
       "      <th></th>\n",
       "      <th>extract_text</th>\n",
       "      <th>cleaning_data</th>\n",
       "    </tr>\n",
       "  </thead>\n",
       "  <tbody>\n",
       "    <tr>\n",
       "      <th>7733</th>\n",
       "      <td>Texas Can’t Force Out-of-State Citizens to Pay...</td>\n",
       "      <td>texas force state citizens pay higher college ...</td>\n",
       "    </tr>\n",
       "    <tr>\n",
       "      <th>6655</th>\n",
       "      <td>The Deal Has Already Been Made: DeSantis To Ru...</td>\n",
       "      <td>deal already make desantis run trump accord re...</td>\n",
       "    </tr>\n",
       "    <tr>\n",
       "      <th>15501</th>\n",
       "      <td>U.S. seizes Russian oligarch’s 256-foot supery...</td>\n",
       "      <td>seize russian oligarch foot superyacht spain a...</td>\n",
       "    </tr>\n",
       "    <tr>\n",
       "      <th>1640</th>\n",
       "      <td>REPORT: FBI Was After Documents Trump Believed...</td>\n",
       "      <td>report fbi document trump believe would exoner...</td>\n",
       "    </tr>\n",
       "    <tr>\n",
       "      <th>5859</th>\n",
       "      <td>On June 8, 26-year-old Nicholas John Roske of ...</td>\n",
       "      <td>june year old nicholas john roske california c...</td>\n",
       "    </tr>\n",
       "    <tr>\n",
       "      <th>22583</th>\n",
       "      <td>BOMBSHELL! “Premeditated Manslaughter of Milli...</td>\n",
       "      <td>bombshell premeditate manslaughter millions pe...</td>\n",
       "    </tr>\n",
       "    <tr>\n",
       "      <th>2788</th>\n",
       "      <td>Canadian Public Bank Kept Secret Blacklist of ...</td>\n",
       "      <td>canadian public bank keep secret blacklist cus...</td>\n",
       "    </tr>\n",
       "    <tr>\n",
       "      <th>16407</th>\n",
       "      <td>Anti-Democrat Biden Insinuates He Hates Politi...</td>\n",
       "      <td>anti democrat biden insinuate hat political co...</td>\n",
       "    </tr>\n",
       "    <tr>\n",
       "      <th>3174</th>\n",
       "      <td>On Thursday the Kremlin responded to US Secret...</td>\n",
       "      <td>thursday kremlin respond secretary state anton...</td>\n",
       "    </tr>\n",
       "    <tr>\n",
       "      <th>9273</th>\n",
       "      <td>Who did this??ðŸ˜‚ðŸ˜‚ðŸ˜‚ Who did this??ðŸ˜‚ð...</td>\n",
       "      <td>donaldo trumpo publish july view subscribe joi...</td>\n",
       "    </tr>\n",
       "    <tr>\n",
       "      <th>960</th>\n",
       "      <td>Republican Sen. Chuck Grassley of Iowa says th...</td>\n",
       "      <td>republican sen chuck grassley iowa say fbi fol...</td>\n",
       "    </tr>\n",
       "    <tr>\n",
       "      <th>193</th>\n",
       "      <td>Megyn Kelly Drops Brutal Takedown Of Dr. Fauci...</td>\n",
       "      <td>megyn kelly drop brutal takedown fauci miss me...</td>\n",
       "    </tr>\n",
       "    <tr>\n",
       "      <th>7019</th>\n",
       "      <td>President Joe Biden announced a pair of hiring...</td>\n",
       "      <td>president joe biden announce pair hire move th...</td>\n",
       "    </tr>\n",
       "    <tr>\n",
       "      <th>1981</th>\n",
       "      <td>Anti-Election Fraud Training Programs Set Up A...</td>\n",
       "      <td>anti election fraud train program set across t...</td>\n",
       "    </tr>\n",
       "    <tr>\n",
       "      <th>16784</th>\n",
       "      <td>Psaki Warns World Will Suffer Food Shortages D...</td>\n",
       "      <td>psaki warn world suffer food shortages due rus...</td>\n",
       "    </tr>\n",
       "    <tr>\n",
       "      <th>12128</th>\n",
       "      <td>Joe Biden Tells Reporters in Japan US \"Will Ge...</td>\n",
       "      <td>joe biden tell reporters japan get involve mil...</td>\n",
       "    </tr>\n",
       "    <tr>\n",
       "      <th>14258</th>\n",
       "      <td>JOE TAKES ORDERS FROM THE EASTER BUNNY!!! JOE ...</td>\n",
       "      <td>joe take order easter bunny joe take order eas...</td>\n",
       "    </tr>\n",
       "    <tr>\n",
       "      <th>9327</th>\n",
       "      <td>Free Milk Shakes Offered To Customers Showing ...</td>\n",
       "      <td>free milk shake offer customers show proof vas...</td>\n",
       "    </tr>\n",
       "    <tr>\n",
       "      <th>24258</th>\n",
       "      <td>Cape Cod children aged one and six left orphan...</td>\n",
       "      <td>cape cod children age one six leave orphan par...</td>\n",
       "    </tr>\n",
       "    <tr>\n",
       "      <th>1066</th>\n",
       "      <td>Texas Woman Poisoned by Touching Napkin Stuck ...</td>\n",
       "      <td>texas woman poison touch napkin stick car door...</td>\n",
       "    </tr>\n",
       "  </tbody>\n",
       "</table>\n",
       "</div>"
      ],
      "text/plain": [
       "                                            extract_text  \\\n",
       "7733   Texas Can’t Force Out-of-State Citizens to Pay...   \n",
       "6655   The Deal Has Already Been Made: DeSantis To Ru...   \n",
       "15501  U.S. seizes Russian oligarch’s 256-foot supery...   \n",
       "1640   REPORT: FBI Was After Documents Trump Believed...   \n",
       "5859   On June 8, 26-year-old Nicholas John Roske of ...   \n",
       "22583  BOMBSHELL! “Premeditated Manslaughter of Milli...   \n",
       "2788   Canadian Public Bank Kept Secret Blacklist of ...   \n",
       "16407  Anti-Democrat Biden Insinuates He Hates Politi...   \n",
       "3174   On Thursday the Kremlin responded to US Secret...   \n",
       "9273   Who did this??ðŸ˜‚ðŸ˜‚ðŸ˜‚ Who did this??ðŸ˜‚ð...   \n",
       "960    Republican Sen. Chuck Grassley of Iowa says th...   \n",
       "193    Megyn Kelly Drops Brutal Takedown Of Dr. Fauci...   \n",
       "7019   President Joe Biden announced a pair of hiring...   \n",
       "1981   Anti-Election Fraud Training Programs Set Up A...   \n",
       "16784  Psaki Warns World Will Suffer Food Shortages D...   \n",
       "12128  Joe Biden Tells Reporters in Japan US \"Will Ge...   \n",
       "14258  JOE TAKES ORDERS FROM THE EASTER BUNNY!!! JOE ...   \n",
       "9327   Free Milk Shakes Offered To Customers Showing ...   \n",
       "24258  Cape Cod children aged one and six left orphan...   \n",
       "1066   Texas Woman Poisoned by Touching Napkin Stuck ...   \n",
       "\n",
       "                                           cleaning_data  \n",
       "7733   texas force state citizens pay higher college ...  \n",
       "6655   deal already make desantis run trump accord re...  \n",
       "15501  seize russian oligarch foot superyacht spain a...  \n",
       "1640   report fbi document trump believe would exoner...  \n",
       "5859   june year old nicholas john roske california c...  \n",
       "22583  bombshell premeditate manslaughter millions pe...  \n",
       "2788   canadian public bank keep secret blacklist cus...  \n",
       "16407  anti democrat biden insinuate hat political co...  \n",
       "3174   thursday kremlin respond secretary state anton...  \n",
       "9273   donaldo trumpo publish july view subscribe joi...  \n",
       "960    republican sen chuck grassley iowa say fbi fol...  \n",
       "193    megyn kelly drop brutal takedown fauci miss me...  \n",
       "7019   president joe biden announce pair hire move th...  \n",
       "1981   anti election fraud train program set across t...  \n",
       "16784  psaki warn world suffer food shortages due rus...  \n",
       "12128  joe biden tell reporters japan get involve mil...  \n",
       "14258  joe take order easter bunny joe take order eas...  \n",
       "9327   free milk shake offer customers show proof vas...  \n",
       "24258  cape cod children age one six leave orphan par...  \n",
       "1066   texas woman poison touch napkin stick car door...  "
      ]
     },
     "execution_count": 180,
     "metadata": {},
     "output_type": "execute_result"
    }
   ],
   "source": [
    "X_train.head(20)\n",
    "X_test.head(20)"
   ]
  },
  {
   "attachments": {},
   "cell_type": "markdown",
   "metadata": {
    "papermill": {
     "duration": 0.064641,
     "end_time": "2021-02-02T18:52:49.600404",
     "exception": false,
     "start_time": "2021-02-02T18:52:49.535763",
     "status": "completed"
    },
    "tags": []
   },
   "source": [
    "<a id=\"3\"></a> <br>\n",
    "## En Sık Kullanılan Kelime Tespiti\n",
    "\n",
    "Sahte haber ve Gerçek haberlerin verilerine bakılarak her iki veri sınıfında en çok tekrar eden ortak kelimelerin tespit edilip veri setinden çıkarma işlemi gerçekleştirdik.\n",
    "\n",
    "By looking at the data of fake news and real news, we identified the most repeated common words in both data classes and removed them from the data set."
   ]
  },
  {
   "cell_type": "code",
   "execution_count": 181,
   "metadata": {},
   "outputs": [
    {
     "data": {
      "text/plain": [
       "array([ 1., -1.])"
      ]
     },
     "execution_count": 181,
     "metadata": {},
     "output_type": "execute_result"
    }
   ],
   "source": [
    "y_train.unique()"
   ]
  },
  {
   "cell_type": "code",
   "execution_count": 182,
   "metadata": {},
   "outputs": [
    {
     "data": {
      "text/html": [
       "<div>\n",
       "<style scoped>\n",
       "    .dataframe tbody tr th:only-of-type {\n",
       "        vertical-align: middle;\n",
       "    }\n",
       "\n",
       "    .dataframe tbody tr th {\n",
       "        vertical-align: top;\n",
       "    }\n",
       "\n",
       "    .dataframe thead th {\n",
       "        text-align: right;\n",
       "    }\n",
       "</style>\n",
       "<table border=\"1\" class=\"dataframe\">\n",
       "  <thead>\n",
       "    <tr style=\"text-align: right;\">\n",
       "      <th></th>\n",
       "      <th>extract_text</th>\n",
       "      <th>cleaning_data</th>\n",
       "      <th>label</th>\n",
       "    </tr>\n",
       "  </thead>\n",
       "  <tbody>\n",
       "    <tr>\n",
       "      <th>7733</th>\n",
       "      <td>Texas Can’t Force Out-of-State Citizens to Pay...</td>\n",
       "      <td>texas force state citizens pay higher college ...</td>\n",
       "      <td>1.0</td>\n",
       "    </tr>\n",
       "    <tr>\n",
       "      <th>6655</th>\n",
       "      <td>The Deal Has Already Been Made: DeSantis To Ru...</td>\n",
       "      <td>deal already make desantis run trump accord re...</td>\n",
       "      <td>1.0</td>\n",
       "    </tr>\n",
       "    <tr>\n",
       "      <th>15501</th>\n",
       "      <td>U.S. seizes Russian oligarch’s 256-foot supery...</td>\n",
       "      <td>seize russian oligarch foot superyacht spain a...</td>\n",
       "      <td>-1.0</td>\n",
       "    </tr>\n",
       "    <tr>\n",
       "      <th>1640</th>\n",
       "      <td>REPORT: FBI Was After Documents Trump Believed...</td>\n",
       "      <td>report fbi document trump believe would exoner...</td>\n",
       "      <td>1.0</td>\n",
       "    </tr>\n",
       "    <tr>\n",
       "      <th>5859</th>\n",
       "      <td>On June 8, 26-year-old Nicholas John Roske of ...</td>\n",
       "      <td>june year old nicholas john roske california c...</td>\n",
       "      <td>1.0</td>\n",
       "    </tr>\n",
       "  </tbody>\n",
       "</table>\n",
       "</div>"
      ],
      "text/plain": [
       "                                            extract_text  \\\n",
       "7733   Texas Can’t Force Out-of-State Citizens to Pay...   \n",
       "6655   The Deal Has Already Been Made: DeSantis To Ru...   \n",
       "15501  U.S. seizes Russian oligarch’s 256-foot supery...   \n",
       "1640   REPORT: FBI Was After Documents Trump Believed...   \n",
       "5859   On June 8, 26-year-old Nicholas John Roske of ...   \n",
       "\n",
       "                                           cleaning_data  label  \n",
       "7733   texas force state citizens pay higher college ...    1.0  \n",
       "6655   deal already make desantis run trump accord re...    1.0  \n",
       "15501  seize russian oligarch foot superyacht spain a...   -1.0  \n",
       "1640   report fbi document trump believe would exoner...    1.0  \n",
       "5859   june year old nicholas john roske california c...    1.0  "
      ]
     },
     "execution_count": 182,
     "metadata": {},
     "output_type": "execute_result"
    }
   ],
   "source": [
    "train=pd.concat([X_train, y_train], axis=1)\n",
    "test=pd.concat([X_test,  y_test], axis=1)\n",
    "train.head()\n",
    "test.head()"
   ]
  },
  {
   "cell_type": "code",
   "execution_count": 183,
   "metadata": {},
   "outputs": [
    {
     "data": {
      "text/plain": [
       "extract_text      object\n",
       "cleaning_data     object\n",
       "label            float64\n",
       "dtype: object"
      ]
     },
     "execution_count": 183,
     "metadata": {},
     "output_type": "execute_result"
    }
   ],
   "source": [
    "train.dtypes"
   ]
  },
  {
   "cell_type": "code",
   "execution_count": 184,
   "metadata": {
    "execution": {
     "iopub.execute_input": "2021-02-02T18:52:49.736872Z",
     "iopub.status.busy": "2021-02-02T18:52:49.736025Z",
     "iopub.status.idle": "2021-02-02T18:52:50.867950Z",
     "shell.execute_reply": "2021-02-02T18:52:50.867239Z"
    },
    "papermill": {
     "duration": 1.201147,
     "end_time": "2021-02-02T18:52:50.868127",
     "exception": false,
     "start_time": "2021-02-02T18:52:49.666980",
     "status": "completed"
    },
    "tags": []
   },
   "outputs": [
    {
     "name": "stderr",
     "output_type": "stream",
     "text": [
      "<ipython-input-184-b3cc5486bad6>:1: DeprecationWarning: `np.float` is a deprecated alias for the builtin `float`. To silence this warning, use `float` by itself. Doing this will not modify any behavior and is safe. If you specifically wanted the numpy scalar type, use `np.float64` here.\n",
      "Deprecated in NumPy 1.20; for more details and guidance: https://numpy.org/devdocs/release/1.20.0-notes.html#deprecations\n",
      "  gercek_haber = train[train[\"label\"] == np.float(1.0)][\"cleaning_data\"]\n",
      "<ipython-input-184-b3cc5486bad6>:2: DeprecationWarning: `np.float` is a deprecated alias for the builtin `float`. To silence this warning, use `float` by itself. Doing this will not modify any behavior and is safe. If you specifically wanted the numpy scalar type, use `np.float64` here.\n",
      "Deprecated in NumPy 1.20; for more details and guidance: https://numpy.org/devdocs/release/1.20.0-notes.html#deprecations\n",
      "  sahte_haber = train[train[\"label\"] == np.float(-1.0)][\"cleaning_data\"]\n"
     ]
    },
    {
     "data": {
      "image/png": "[encoded data removed]",
      "text/plain": [
       "<Figure size 720x432 with 1 Axes>"
      ]
     },
     "metadata": {
      "needs_background": "light"
     },
     "output_type": "display_data"
    },
    {
     "data": {
      "image/png": "[encoded data removed]",
      "text/plain": [
       "<Figure size 720x432 with 1 Axes>"
      ]
     },
     "metadata": {
      "needs_background": "light"
     },
     "output_type": "display_data"
    }
   ],
   "source": [
    "gercek_haber = train[train[\"label\"] == np.float(1.0)][\"cleaning_data\"]\n",
    "sahte_haber = train[train[\"label\"] == np.float(-1.0)][\"cleaning_data\"]\n",
    "df = [gercek_haber,sahte_haber]\n",
    "\n",
    "for i in range(2):\n",
    "    plt.figure(figsize=(10,6))\n",
    "    pd.Series(' '.join([j for j in df[i]]).split()).value_counts().head(20).plot(kind=\"bar\")\n",
    "    plt.show()"
   ]
  },
  {
   "attachments": {},
   "cell_type": "markdown",
   "metadata": {
    "papermill": {
     "duration": 0.067707,
     "end_time": "2021-02-02T18:52:51.003338",
     "exception": false,
     "start_time": "2021-02-02T18:52:50.935631",
     "status": "completed"
    },
    "tags": []
   },
   "source": [
    "Hem Sahte haber hem de gerçek haberde en çok tekrar eden kelime \"say\" kelimesidir. Modelimizin daha iyi bir performansa sahip olması için \"say\" kelimesini veri setinden temizleme işlemi gerçekleştiriyoruz.\n",
    "\n",
    "The most recurring word in both fake news and real news is \"say.\" We remove the word \"count\" from the data set so that our model has better performance."
   ]
  },
  {
   "cell_type": "code",
   "execution_count": 185,
   "metadata": {
    "execution": {
     "iopub.execute_input": "2021-02-02T18:52:51.158706Z",
     "iopub.status.busy": "2021-02-02T18:52:51.153782Z",
     "iopub.status.idle": "2021-02-02T18:52:51.443226Z",
     "shell.execute_reply": "2021-02-02T18:52:51.441628Z"
    },
    "papermill": {
     "duration": 0.371466,
     "end_time": "2021-02-02T18:52:51.443405",
     "exception": false,
     "start_time": "2021-02-02T18:52:51.071939",
     "status": "completed"
    },
    "tags": []
   },
   "outputs": [],
   "source": [
    "#removal of common word say; same as our data\n",
    "def kelime_sil(text):\n",
    "    return ' '.join([i for i in text.split() if i !=\"say\"])\n",
    "train[\"cleaning_data\"] = train[\"extract_text\"].apply(cleaning_data)\n",
    "train[\"clean\"] = train[\"cleaning_data\"].apply(kelime_sil)\n",
    "\n",
    "test[\"cleaning_data\"] = test[\"extract_text\"].apply(cleaning_data)\n",
    "test[\"clean\"] = test[\"cleaning_data\"].apply(kelime_sil)"
   ]
  },
  {
   "cell_type": "code",
   "execution_count": 186,
   "metadata": {
    "execution": {
     "iopub.execute_input": "2021-02-02T18:52:51.551944Z",
     "iopub.status.busy": "2021-02-02T18:52:51.551312Z",
     "iopub.status.idle": "2021-02-02T18:52:51.557623Z",
     "shell.execute_reply": "2021-02-02T18:52:51.557045Z"
    },
    "papermill": {
     "duration": 0.066307,
     "end_time": "2021-02-02T18:52:51.557773",
     "exception": false,
     "start_time": "2021-02-02T18:52:51.491466",
     "status": "completed"
    },
    "tags": []
   },
   "outputs": [
    {
     "data": {
      "text/html": [
       "<div>\n",
       "<style scoped>\n",
       "    .dataframe tbody tr th:only-of-type {\n",
       "        vertical-align: middle;\n",
       "    }\n",
       "\n",
       "    .dataframe tbody tr th {\n",
       "        vertical-align: top;\n",
       "    }\n",
       "\n",
       "    .dataframe thead th {\n",
       "        text-align: right;\n",
       "    }\n",
       "</style>\n",
       "<table border=\"1\" class=\"dataframe\">\n",
       "  <thead>\n",
       "    <tr style=\"text-align: right;\">\n",
       "      <th></th>\n",
       "      <th>label</th>\n",
       "      <th>clean</th>\n",
       "    </tr>\n",
       "  </thead>\n",
       "  <tbody>\n",
       "    <tr>\n",
       "      <th>2478</th>\n",
       "      <td>1.0</td>\n",
       "      <td>obama catch video skip main content home get a...</td>\n",
       "    </tr>\n",
       "    <tr>\n",
       "      <th>16520</th>\n",
       "      <td>1.0</td>\n",
       "      <td>insurance compaines prepare deny life insuranc...</td>\n",
       "    </tr>\n",
       "    <tr>\n",
       "      <th>3780</th>\n",
       "      <td>1.0</td>\n",
       "      <td>natural news today podcast discuss interview c...</td>\n",
       "    </tr>\n",
       "    <tr>\n",
       "      <th>20429</th>\n",
       "      <td>1.0</td>\n",
       "      <td>ukraine president walk back statement russia a...</td>\n",
       "    </tr>\n",
       "    <tr>\n",
       "      <th>23184</th>\n",
       "      <td>1.0</td>\n",
       "      <td>exclusive cyber ninjas ceo doug logan respond ...</td>\n",
       "    </tr>\n",
       "  </tbody>\n",
       "</table>\n",
       "</div>"
      ],
      "text/plain": [
       "       label                                              clean\n",
       "2478     1.0  obama catch video skip main content home get a...\n",
       "16520    1.0  insurance compaines prepare deny life insuranc...\n",
       "3780     1.0  natural news today podcast discuss interview c...\n",
       "20429    1.0  ukraine president walk back statement russia a...\n",
       "23184    1.0  exclusive cyber ninjas ceo doug logan respond ..."
      ]
     },
     "execution_count": 186,
     "metadata": {},
     "output_type": "execute_result"
    }
   ],
   "source": [
    "#İhtiyacımız olmayan kolonların temizlenmesi\n",
    "train.drop([\"extract_text\",\"cleaning_data\"],axis=1,inplace=True)\n",
    "train.head()"
   ]
  },
  {
   "cell_type": "code",
   "execution_count": 187,
   "metadata": {},
   "outputs": [
    {
     "data": {
      "text/html": [
       "<div>\n",
       "<style scoped>\n",
       "    .dataframe tbody tr th:only-of-type {\n",
       "        vertical-align: middle;\n",
       "    }\n",
       "\n",
       "    .dataframe tbody tr th {\n",
       "        vertical-align: top;\n",
       "    }\n",
       "\n",
       "    .dataframe thead th {\n",
       "        text-align: right;\n",
       "    }\n",
       "</style>\n",
       "<table border=\"1\" class=\"dataframe\">\n",
       "  <thead>\n",
       "    <tr style=\"text-align: right;\">\n",
       "      <th></th>\n",
       "      <th>label</th>\n",
       "      <th>clean</th>\n",
       "    </tr>\n",
       "  </thead>\n",
       "  <tbody>\n",
       "    <tr>\n",
       "      <th>7733</th>\n",
       "      <td>1.0</td>\n",
       "      <td>texas force state citizens pay higher college ...</td>\n",
       "    </tr>\n",
       "    <tr>\n",
       "      <th>6655</th>\n",
       "      <td>1.0</td>\n",
       "      <td>deal already make desantis run trump accord re...</td>\n",
       "    </tr>\n",
       "    <tr>\n",
       "      <th>15501</th>\n",
       "      <td>-1.0</td>\n",
       "      <td>seize russian oligarch foot superyacht spain a...</td>\n",
       "    </tr>\n",
       "    <tr>\n",
       "      <th>1640</th>\n",
       "      <td>1.0</td>\n",
       "      <td>report fbi document trump believe would exoner...</td>\n",
       "    </tr>\n",
       "    <tr>\n",
       "      <th>5859</th>\n",
       "      <td>1.0</td>\n",
       "      <td>june year old nicholas john roske california c...</td>\n",
       "    </tr>\n",
       "  </tbody>\n",
       "</table>\n",
       "</div>"
      ],
      "text/plain": [
       "       label                                              clean\n",
       "7733     1.0  texas force state citizens pay higher college ...\n",
       "6655     1.0  deal already make desantis run trump accord re...\n",
       "15501   -1.0  seize russian oligarch foot superyacht spain a...\n",
       "1640     1.0  report fbi document trump believe would exoner...\n",
       "5859     1.0  june year old nicholas john roske california c..."
      ]
     },
     "execution_count": 187,
     "metadata": {},
     "output_type": "execute_result"
    }
   ],
   "source": [
    "test.drop([\"extract_text\",\"cleaning_data\"],axis=1,inplace=True)\n",
    "test.head()"
   ]
  },
  {
   "attachments": {},
   "cell_type": "markdown",
   "metadata": {
    "papermill": {
     "duration": 0.048129,
     "end_time": "2021-02-02T18:52:51.654418",
     "exception": false,
     "start_time": "2021-02-02T18:52:51.606289",
     "status": "completed"
    },
    "tags": []
   },
   "source": [
    "<a id=\"4\"></a> <br>\n",
    "# Model Oluşturma"
   ]
  },
  {
   "cell_type": "code",
   "execution_count": 132,
   "metadata": {},
   "outputs": [],
   "source": [
    "# train=pd.read_csv(\"/Users/anthonychen/Downloads/train_fnd.csv\", sep='\\t', encoding='utf-8')\n",
    "# test = pd.read_csv(\"/Users/anthonychen/Downloads/test_fnd.csv\", sep='\\t', encoding='utf-8')"
   ]
  },
  {
   "cell_type": "code",
   "execution_count": 134,
   "metadata": {},
   "outputs": [],
   "source": [
    "#np.all(y_train == train.label.to_frame())"
   ]
  },
  {
   "cell_type": "code",
   "execution_count": null,
   "metadata": {
    "execution": {
     "iopub.execute_input": "2021-02-02T18:52:51.762384Z",
     "iopub.status.busy": "2021-02-02T18:52:51.761431Z",
     "iopub.status.idle": "2021-02-02T18:52:51.767170Z",
     "shell.execute_reply": "2021-02-02T18:52:51.766521Z"
    },
    "papermill": {
     "duration": 0.064411,
     "end_time": "2021-02-02T18:52:51.767338",
     "exception": false,
     "start_time": "2021-02-02T18:52:51.702927",
     "status": "completed"
    },
    "tags": []
   },
   "outputs": [],
   "source": [
    "# x = train[\"clean\"]  \n",
    "# # Tahmin edilecek girdi verilerini x değişkenine.\n",
    "# y = train [\"label\"] \n",
    "# # Hedef ddeğişkenimiz olan \"label\" özniteliğini y değişkenine atadık.\n",
    "\n",
    "# #create a validation set train, test split\n",
    "# X_train, X_test, y_train, y_test = train_test_split(x,y, test_size=0.20, random_state=18)\n",
    "# # Modelin eğitimi için verilerin %80'ini eğitime %20 sini test verileri olarak bölme işlemi gerçekleştirdim.\n",
    "\n",
    "# print(f\"X_train Boyutu : {X_train.shape}\")\n",
    "# print(f\"X_test Boyutu : {X_test.shape}\")\n",
    "# print(f\"y_train Boyutu : {y_train.shape}\")\n",
    "# print(f\"y_test Boyutu : {y_test.shape}\")"
   ]
  },
  {
   "cell_type": "code",
   "execution_count": 188,
   "metadata": {},
   "outputs": [],
   "source": [
    "count_vectorizer = CountVectorizer(ngram_range=(1, 2), stop_words='english') \n",
    "# Eğitim verilerin fit edilmesi .\n",
    "count_train = count_vectorizer.fit_transform(train['clean'])\n",
    "# Test verilerin fit edilmesi\n",
    "count_test = count_vectorizer.transform(test['clean'])"
   ]
  },
  {
   "cell_type": "code",
   "execution_count": 189,
   "metadata": {},
   "outputs": [
    {
     "data": {
      "text/plain": [
       "matrix([[0, 0, 0, ..., 0, 0, 0],\n",
       "        [0, 0, 0, ..., 0, 0, 0],\n",
       "        [0, 0, 0, ..., 0, 0, 0],\n",
       "        ...,\n",
       "        [0, 0, 0, ..., 0, 0, 0],\n",
       "        [0, 0, 0, ..., 0, 0, 0],\n",
       "        [0, 0, 0, ..., 0, 0, 0]])"
      ]
     },
     "execution_count": 189,
     "metadata": {},
     "output_type": "execute_result"
    }
   ],
   "source": [
    "count_train.todense()"
   ]
  },
  {
   "attachments": {},
   "cell_type": "markdown",
   "metadata": {
    "papermill": {
     "duration": 0.050176,
     "end_time": "2021-02-02T18:52:51.866653",
     "exception": false,
     "start_time": "2021-02-02T18:52:51.816477",
     "status": "completed"
    },
    "tags": []
   },
   "source": [
    "<a id=\"5\"></a> <br>\n",
    "# Metin Verilerinin Sayısal Verilere Dönüştürülmesi"
   ]
  },
  {
   "attachments": {},
   "cell_type": "markdown",
   "metadata": {
    "papermill": {
     "duration": 0.049477,
     "end_time": "2021-02-02T18:52:51.964989",
     "exception": false,
     "start_time": "2021-02-02T18:52:51.915512",
     "status": "completed"
    },
    "tags": []
   },
   "source": [
    "<a id=\"6\"></a> <br>\n",
    "### Count Vectorizer"
   ]
  },
  {
   "cell_type": "code",
   "execution_count": null,
   "metadata": {},
   "outputs": [],
   "source": [
    "#X_train.head(2)"
   ]
  },
  {
   "cell_type": "code",
   "execution_count": null,
   "metadata": {},
   "outputs": [],
   "source": [
    "#X_train"
   ]
  },
  {
   "cell_type": "code",
   "execution_count": 190,
   "metadata": {
    "execution": {
     "iopub.execute_input": "2021-02-02T18:52:52.087158Z",
     "iopub.status.busy": "2021-02-02T18:52:52.070135Z",
     "iopub.status.idle": "2021-02-02T18:53:00.107672Z",
     "shell.execute_reply": "2021-02-02T18:53:00.107080Z"
    },
    "papermill": {
     "duration": 8.094307,
     "end_time": "2021-02-02T18:53:00.107812",
     "exception": false,
     "start_time": "2021-02-02T18:52:52.013505",
     "status": "completed"
    },
    "tags": []
   },
   "outputs": [],
   "source": [
    "# Count Vectorize(Sayma Vektörü)\n",
    "#adjust max_features 100, 500, 1000\n",
    "\n",
    "count_vectorizer = CountVectorizer(ngram_range=(1, 2), stop_words='english', max_features=100) \n",
    "# Eğitim verilerin fit edilmesi .\n",
    "count_train = count_vectorizer.fit_transform(train['clean'])\n",
    "# Test verilerin fit edilmesi\n",
    "count_test = count_vectorizer.transform(test['clean'])"
   ]
  },
  {
   "cell_type": "code",
   "execution_count": 191,
   "metadata": {},
   "outputs": [
    {
     "data": {
      "text/plain": [
       "(30910, 100)"
      ]
     },
     "execution_count": 191,
     "metadata": {},
     "output_type": "execute_result"
    }
   ],
   "source": [
    "#high number of words; maybe reduce infrequent words\n",
    "count_train.shape"
   ]
  },
  {
   "attachments": {},
   "cell_type": "markdown",
   "metadata": {
    "papermill": {
     "duration": 0.04781,
     "end_time": "2021-02-02T18:53:00.204041",
     "exception": false,
     "start_time": "2021-02-02T18:53:00.156231",
     "status": "completed"
    },
    "tags": []
   },
   "source": [
    "<a id=\"7\"></a> <br>\n",
    "### TF-IDF Vecktorizer"
   ]
  },
  {
   "cell_type": "code",
   "execution_count": 192,
   "metadata": {
    "execution": {
     "iopub.execute_input": "2021-02-02T18:53:00.304033Z",
     "iopub.status.busy": "2021-02-02T18:53:00.303145Z",
     "iopub.status.idle": "2021-02-02T18:53:08.119799Z",
     "shell.execute_reply": "2021-02-02T18:53:08.120415Z"
    },
    "papermill": {
     "duration": 7.868339,
     "end_time": "2021-02-02T18:53:08.120604",
     "exception": false,
     "start_time": "2021-02-02T18:53:00.252265",
     "status": "completed"
    },
    "tags": []
   },
   "outputs": [],
   "source": [
    "#Tf-IDF Vektörizasyonu\n",
    "\n",
    "tfidf_vectorizer = TfidfVectorizer(stop_words='english', ngram_range=(1, 2), max_features=100)\n",
    "#Eğitim Verisinin  Tf-Idf Dönüştürülmesi\n",
    "tfidf_train = tfidf_vectorizer.fit_transform(train['clean'])\n",
    "#Test Verilerinin Tf-Idf Dönüştürülmesi \n",
    "tfidf_test = tfidf_vectorizer.transform(test['clean'])\n"
   ]
  },
  {
   "cell_type": "code",
   "execution_count": 193,
   "metadata": {},
   "outputs": [
    {
     "data": {
      "text/plain": [
       "(30910, 100)"
      ]
     },
     "execution_count": 193,
     "metadata": {},
     "output_type": "execute_result"
    }
   ],
   "source": [
    "tfidf_train.shape"
   ]
  },
  {
   "attachments": {},
   "cell_type": "markdown",
   "metadata": {
    "papermill": {
     "duration": 0.053619,
     "end_time": "2021-02-02T18:53:08.227179",
     "exception": false,
     "start_time": "2021-02-02T18:53:08.173560",
     "status": "completed"
    },
    "tags": []
   },
   "source": [
    "<a id=\"8\"></a> <br>\n",
    "# Model Oluşturma"
   ]
  },
  {
   "attachments": {},
   "cell_type": "markdown",
   "metadata": {
    "papermill": {
     "duration": 0.051068,
     "end_time": "2021-02-02T18:53:08.335771",
     "exception": false,
     "start_time": "2021-02-02T18:53:08.284703",
     "status": "completed"
    },
    "tags": []
   },
   "source": [
    "<a id=\"9\"></a> <br>\n",
    "\n",
    "## Count Vectorizer ile MNB Modeli"
   ]
  },
  {
   "cell_type": "code",
   "execution_count": 194,
   "metadata": {},
   "outputs": [
    {
     "data": {
      "text/plain": [
       "1160139"
      ]
     },
     "execution_count": 194,
     "metadata": {},
     "output_type": "execute_result"
    }
   ],
   "source": [
    "count_train.getnnz()"
   ]
  },
  {
   "cell_type": "code",
   "execution_count": 195,
   "metadata": {},
   "outputs": [
    {
     "data": {
      "text/plain": [
       "matrix([[0, 0, 0, ..., 0, 0, 0],\n",
       "        [0, 1, 4, ..., 0, 0, 1],\n",
       "        [0, 0, 0, ..., 1, 0, 1],\n",
       "        ...,\n",
       "        [0, 1, 4, ..., 0, 0, 0],\n",
       "        [0, 3, 0, ..., 1, 0, 1],\n",
       "        [0, 0, 0, ..., 1, 0, 1]])"
      ]
     },
     "execution_count": 195,
     "metadata": {},
     "output_type": "execute_result"
    }
   ],
   "source": [
    "count_train.todense()"
   ]
  },
  {
   "cell_type": "code",
   "execution_count": 196,
   "metadata": {
    "execution": {
     "iopub.execute_input": "2021-02-02T18:53:08.480965Z",
     "iopub.status.busy": "2021-02-02T18:53:08.479853Z",
     "iopub.status.idle": "2021-02-02T18:53:08.693557Z",
     "shell.execute_reply": "2021-02-02T18:53:08.692616Z"
    },
    "papermill": {
     "duration": 0.287515,
     "end_time": "2021-02-02T18:53:08.693780",
     "exception": false,
     "start_time": "2021-02-02T18:53:08.406265",
     "status": "completed"
    },
    "tags": []
   },
   "outputs": [
    {
     "name": "stdout",
     "output_type": "stream",
     "text": [
      "Count Vectorizer MNB Modelinin Accuracy Başarımı = %73.68\n",
      " =               precision    recall  f1-score   support\n",
      "\n",
      "        -1.0       0.09      0.72      0.15       255\n",
      "         1.0       0.99      0.74      0.84      7473\n",
      "\n",
      "    accuracy                           0.74      7728\n",
      "   macro avg       0.54      0.73      0.50      7728\n",
      "weighted avg       0.96      0.74      0.82      7728\n",
      "\n",
      "AUC: 0.727550948119111\n"
     ]
    }
   ],
   "source": [
    "# Count Vectorizer metodu ile Multinomial Naive Bayes algoritmasının uygulanması \n",
    "nb_classifier = MultinomialNB(alpha = 0.1)\n",
    "#MNB algoritmasının eğitilmesi\n",
    "nb_classifier.fit(count_train, train.label)\n",
    "#MNB algoritmasının predict edilmesi\n",
    "pred_nb_count = nb_classifier.predict(count_test)\n",
    "#Doğruluk metriğinin hesaplanması\n",
    "acc_nb_count = metrics.accuracy_score(test.label, pred_nb_count)\n",
    "#round ile elde edilen sonucun yüzelik olarak yazdırılması\n",
    "print(f\"Count Vectorizer MNB Modelinin Accuracy Başarımı = %{round(acc_nb_count*100,2)}\")\n",
    "print(f\" = {classification_report(test.label,pred_nb_count)}\")\n",
    "\n",
    "#check AUC \n",
    "#print(pred_nb_count)\n",
    "#print(y_test)\n",
    "pred_nb_count=np.array([int(i) for i in pred_nb_count])\n",
    "print('AUC:', metrics.roc_auc_score(test.label, pred_nb_count))"
   ]
  },
  {
   "cell_type": "code",
   "execution_count": 197,
   "metadata": {
    "execution": {
     "iopub.execute_input": "2021-02-02T18:53:08.861084Z",
     "iopub.status.busy": "2021-02-02T18:53:08.859569Z",
     "iopub.status.idle": "2021-02-02T18:53:12.057034Z",
     "shell.execute_reply": "2021-02-02T18:53:12.057532Z"
    },
    "papermill": {
     "duration": 3.289681,
     "end_time": "2021-02-02T18:53:12.057715",
     "exception": false,
     "start_time": "2021-02-02T18:53:08.768034",
     "status": "completed"
    },
    "tags": []
   },
   "outputs": [
    {
     "name": "stdout",
     "output_type": "stream",
     "text": [
      "Alpha: 0.00 Score: 0.73706\n",
      "Alpha: 0.05 Score: 0.73680\n",
      "Alpha: 0.10 Score: 0.73680\n",
      "Alpha: 0.15 Score: 0.73680\n",
      "Alpha: 0.20 Score: 0.73680\n",
      "Alpha: 0.25 Score: 0.73680\n"
     ]
    },
    {
     "name": "stderr",
     "output_type": "stream",
     "text": [
      "/Users/anthonychen/opt/anaconda3/lib/python3.8/site-packages/sklearn/naive_bayes.py:511: UserWarning: alpha too small will result in numeric errors, setting alpha = 1.0e-10\n",
      "  warnings.warn('alpha too small will result in numeric errors, '\n"
     ]
    },
    {
     "name": "stdout",
     "output_type": "stream",
     "text": [
      "Alpha: 0.30 Score: 0.73680\n",
      "Alpha: 0.35 Score: 0.73680\n",
      "Alpha: 0.40 Score: 0.73680\n",
      "Alpha: 0.45 Score: 0.73680\n",
      "Alpha: 0.50 Score: 0.73680\n",
      "Alpha: 0.55 Score: 0.73680\n",
      "Alpha: 0.60 Score: 0.73680\n",
      "Alpha: 0.65 Score: 0.73680\n",
      "Alpha: 0.70 Score: 0.73680\n",
      "Alpha: 0.75 Score: 0.73680\n",
      "Alpha: 0.80 Score: 0.73680\n",
      "Alpha: 0.85 Score: 0.73680\n",
      "Alpha: 0.90 Score: 0.73680\n",
      "Alpha: 0.95 Score: 0.73680\n"
     ]
    }
   ],
   "source": [
    "# MNB için hiperparametrenin belirlenmesi\n",
    "for alpha in np.arange(0,1,.05):\n",
    "    nb_classifier_hp = MultinomialNB(alpha=alpha)\n",
    "    nb_classifier_hp.fit(count_train, train.label)\n",
    "    pred_hp = nb_classifier_hp.predict(count_test)\n",
    "    score = metrics.accuracy_score(test.label, pred_hp)\n",
    "    print(\"Alpha: {:.2f} Score: {:.5f}\".format(alpha, score))\n"
   ]
  },
  {
   "attachments": {},
   "cell_type": "markdown",
   "metadata": {
    "papermill": {
     "duration": 0.052601,
     "end_time": "2021-02-02T18:53:12.164229",
     "exception": false,
     "start_time": "2021-02-02T18:53:12.111628",
     "status": "completed"
    },
    "tags": []
   },
   "source": [
    "Original: Alpha: 0.90 Score: 0.77355"
   ]
  },
  {
   "cell_type": "code",
   "execution_count": 198,
   "metadata": {
    "execution": {
     "iopub.execute_input": "2021-02-02T18:53:12.292175Z",
     "iopub.status.busy": "2021-02-02T18:53:12.279714Z",
     "iopub.status.idle": "2021-02-02T18:53:12.649087Z",
     "shell.execute_reply": "2021-02-02T18:53:12.648563Z"
    },
    "papermill": {
     "duration": 0.431492,
     "end_time": "2021-02-02T18:53:12.649251",
     "exception": false,
     "start_time": "2021-02-02T18:53:12.217759",
     "status": "completed"
    },
    "tags": []
   },
   "outputs": [
    {
     "data": {
      "image/png": "[encoded data removed]",
      "text/plain": [
       "<Figure size 432x288 with 2 Axes>"
      ]
     },
     "metadata": {
      "needs_background": "light"
     },
     "output_type": "display_data"
    }
   ],
   "source": [
    "# Alpha Değeri 0.90 olarak MNB modelinin uygulanması\n",
    "nb_classifier = MultinomialNB(alpha = 0.90)\n",
    "nb_classifier.fit(count_train, train.label)\n",
    "pred_nb_count = nb_classifier.predict(count_test)\n",
    "cm = metrics.confusion_matrix(test.label, pred_nb_count)\n",
    "\n",
    "# Confusion Matrisinin Oluşturulması ve ileride kullanılacak modellere uygulanabilmesi için confusion matris fonksiyounun oluşuturlması\n",
    "def plot_confusion_matrix(cm, classes,\n",
    "                          #cm = eğitlen modelin CF metrikleri , Classes= True,Fake olmak üzere sahte haberlerin sınıf değerleri\n",
    "                          normalize=False,\n",
    "                          # Grafiğimizin Başlığı\n",
    "                          title='Confusion matrix', \n",
    "                          #Grafiğimizin Renkleri\n",
    "                          cmap=plt.cm.Blues):       \n",
    "    #Grafiğin imshow metodu ile çizilmesi\n",
    "    plt.imshow(cm, cmap=cmap) \n",
    "    #Grafik Başlığı\n",
    "    plt.title(title)          \n",
    "    plt.colorbar()            \n",
    "    tick_marks = np.arange(len(classes))\n",
    "    # xekseninkide \"True-False\" sınıflarının yazdırılması\n",
    "    plt.xticks(tick_marks, classes, rotation=45)\n",
    "    # yekseninkide \"True-False\" sınıflarının yazdırılması\n",
    "    plt.yticks(tick_marks, classes)              \n",
    "    thresh = cm.max() / 2                        \n",
    "    for i, j in itertools.product(range(cm.shape[0]), range(cm.shape[1])):\n",
    "        plt.text(j, i, cm[i, j],\n",
    "                 #kutucukların merkezine konumlandırma\n",
    "                 horizontalalignment=\"center\",   \n",
    "                 #TN değerini beyaz fontta yazdırma\n",
    "                 color=\"white\" if cm[i, j] > thresh else \"black\") \n",
    "\n",
    "    plt.tight_layout()\n",
    "    plt.ylabel('Gerçek Veriler')\n",
    "    plt.xlabel('Tahmin Verileri')\n",
    "    \n",
    "    \n",
    "plot_confusion_matrix(cm, classes=['TRUE','FAKE'], title ='Count Vectorizer İle MultinoimalNB Algoritması')"
   ]
  },
  {
   "attachments": {},
   "cell_type": "markdown",
   "metadata": {
    "papermill": {
     "duration": 0.053383,
     "end_time": "2021-02-02T18:53:12.757824",
     "exception": false,
     "start_time": "2021-02-02T18:53:12.704441",
     "status": "completed"
    },
    "tags": []
   },
   "source": [
    "<a id=\"10\"></a> <br>\n",
    "\n",
    "## TF-IDF Vektörü ile MNB Algoritmasının Uygulanması"
   ]
  },
  {
   "cell_type": "code",
   "execution_count": 199,
   "metadata": {
    "execution": {
     "iopub.execute_input": "2021-02-02T18:53:12.873831Z",
     "iopub.status.busy": "2021-02-02T18:53:12.872920Z",
     "iopub.status.idle": "2021-02-02T18:53:13.043399Z",
     "shell.execute_reply": "2021-02-02T18:53:13.042445Z"
    },
    "papermill": {
     "duration": 0.231434,
     "end_time": "2021-02-02T18:53:13.043543",
     "exception": false,
     "start_time": "2021-02-02T18:53:12.812109",
     "status": "completed"
    },
    "tags": []
   },
   "outputs": [
    {
     "name": "stdout",
     "output_type": "stream",
     "text": [
      "Accuracu = %96.7\n",
      " =               precision    recall  f1-score   support\n",
      "\n",
      "        -1.0       0.00      0.00      0.00       255\n",
      "         1.0       0.97      1.00      0.98      7473\n",
      "\n",
      "    accuracy                           0.97      7728\n",
      "   macro avg       0.48      0.50      0.49      7728\n",
      "weighted avg       0.94      0.97      0.95      7728\n",
      "\n",
      "AUC: 0.5\n"
     ]
    },
    {
     "name": "stderr",
     "output_type": "stream",
     "text": [
      "/Users/anthonychen/opt/anaconda3/lib/python3.8/site-packages/sklearn/metrics/_classification.py:1221: UndefinedMetricWarning: Precision and F-score are ill-defined and being set to 0.0 in labels with no predicted samples. Use `zero_division` parameter to control this behavior.\n",
      "  _warn_prf(average, modifier, msg_start, len(result))\n"
     ]
    }
   ],
   "source": [
    "#TF-IDF Vektörü ile MNB Algoritmasının Uygulanması\n",
    "\n",
    "nb_classifier = MultinomialNB(alpha = 0.1)                   \n",
    "#MNB algoritmasının değişkene atanması\n",
    "nb_classifier.fit(tfidf_train, train.label)                      \n",
    "#Mnb algoritması ile verilerin eğitilmesi\n",
    "pred_nb_tfidf = nb_classifier.predict(tfidf_test)            \n",
    "#tahminleme Prediction işleminin gerçekleştirilmesi\n",
    "acc_nb_tfidf = metrics.accuracy_score(test.label, pred_nb_tfidf) \n",
    "#doğruluk metriğinin hesaplanması\n",
    "print(f\"Accuracu = %{round(acc_nb_tfidf*100,2)}\")  \n",
    "print(f\" = {classification_report(test.label,pred_nb_tfidf)}\")\n",
    "#doğruluk metriğinin yazdırılması\n",
    "\n",
    "pred_nb_tfidf=np.array([int(i) for i in pred_nb_tfidf])\n",
    "print('AUC:', metrics.roc_auc_score(test.label, pred_nb_tfidf))\n"
   ]
  },
  {
   "cell_type": "code",
   "execution_count": 200,
   "metadata": {
    "execution": {
     "iopub.execute_input": "2021-02-02T18:53:13.161466Z",
     "iopub.status.busy": "2021-02-02T18:53:13.160566Z",
     "iopub.status.idle": "2021-02-02T18:53:14.532403Z",
     "shell.execute_reply": "2021-02-02T18:53:14.531696Z"
    },
    "papermill": {
     "duration": 1.433775,
     "end_time": "2021-02-02T18:53:14.532539",
     "exception": false,
     "start_time": "2021-02-02T18:53:13.098764",
     "status": "completed"
    },
    "tags": []
   },
   "outputs": [
    {
     "name": "stdout",
     "output_type": "stream",
     "text": [
      "Alpha: 0.00  Score: 0.96700\n",
      "Alpha: 0.01  Score: 0.96700\n",
      "Alpha: 0.02  Score: 0.96700\n",
      "Alpha: 0.03  Score: 0.96700\n",
      "Alpha: 0.04  Score: 0.96700\n",
      "Alpha: 0.05  Score: 0.96700\n",
      "Alpha: 0.06  Score: 0.96700\n",
      "Alpha: 0.07  Score: 0.96700\n",
      "Alpha: 0.08  Score: 0.96700\n"
     ]
    },
    {
     "name": "stderr",
     "output_type": "stream",
     "text": [
      "/Users/anthonychen/opt/anaconda3/lib/python3.8/site-packages/sklearn/naive_bayes.py:511: UserWarning: alpha too small will result in numeric errors, setting alpha = 1.0e-10\n",
      "  warnings.warn('alpha too small will result in numeric errors, '\n"
     ]
    },
    {
     "name": "stdout",
     "output_type": "stream",
     "text": [
      "Alpha: 0.09  Score: 0.96700\n"
     ]
    }
   ],
   "source": [
    "#TF-IDf yöntemi ile gerçekleştirdiğimiz modelin hiper parametresini ayarlama\n",
    "for alpha in np.arange(0,0.1,.01): \n",
    "    nb_classifier_tune = MultinomialNB(alpha=alpha)            \n",
    "    #döngü içerisindeki arttırım sayısına göre modelin alpha değerinin girilmesi \n",
    "    nb_classifier_tune.fit(tfidf_train, train.label)               \n",
    "    #Modelin eğitilmesi\n",
    "    pred_tune = nb_classifier_tune.predict(tfidf_test)         \n",
    "    #tahminleme prediction işleminingeröekleştirilmesi\n",
    "    score = metrics.accuracy_score(test.label, pred_tune)          \n",
    "    #doğruluk metriğinin hesaplanması\n",
    "    print(\"Alpha: {:.2f}  Score: {:.5f}\".format(alpha, score)) \n",
    "    #elde edilen sonucun yazdırılması"
   ]
  },
  {
   "attachments": {},
   "cell_type": "markdown",
   "metadata": {
    "papermill": {
     "duration": 0.057956,
     "end_time": "2021-02-02T18:53:14.646421",
     "exception": false,
     "start_time": "2021-02-02T18:53:14.588465",
     "status": "completed"
    },
    "tags": []
   },
   "source": [
    "Hiperparametre seçiçinde en yüksek başarımı sağlayan Alpha: Alpha: 0.04  Score: 0.78156 değeridir bunu seçerek modelimi tekrar oluşturup confusion matrisini oluşturacağım"
   ]
  },
  {
   "cell_type": "code",
   "execution_count": 201,
   "metadata": {
    "execution": {
     "iopub.execute_input": "2021-02-02T18:53:14.769349Z",
     "iopub.status.busy": "2021-02-02T18:53:14.768663Z",
     "iopub.status.idle": "2021-02-02T18:53:15.123139Z",
     "shell.execute_reply": "2021-02-02T18:53:15.122454Z"
    },
    "papermill": {
     "duration": 0.418601,
     "end_time": "2021-02-02T18:53:15.123309",
     "exception": false,
     "start_time": "2021-02-02T18:53:14.704708",
     "status": "completed"
    },
    "tags": []
   },
   "outputs": [
    {
     "name": "stdout",
     "output_type": "stream",
     "text": [
      "0.9670031055900621\n",
      " =               precision    recall  f1-score   support\n",
      "\n",
      "        -1.0       0.00      0.00      0.00       255\n",
      "         1.0       0.97      1.00      0.98      7473\n",
      "\n",
      "    accuracy                           0.97      7728\n",
      "   macro avg       0.48      0.50      0.49      7728\n",
      "weighted avg       0.94      0.97      0.95      7728\n",
      "\n"
     ]
    },
    {
     "name": "stderr",
     "output_type": "stream",
     "text": [
      "/Users/anthonychen/opt/anaconda3/lib/python3.8/site-packages/sklearn/metrics/_classification.py:1221: UndefinedMetricWarning: Precision and F-score are ill-defined and being set to 0.0 in labels with no predicted samples. Use `zero_division` parameter to control this behavior.\n",
      "  _warn_prf(average, modifier, msg_start, len(result))\n"
     ]
    },
    {
     "data": {
      "image/png": "[encoded data removed]",
      "text/plain": [
       "<Figure size 432x288 with 2 Axes>"
      ]
     },
     "metadata": {
      "needs_background": "light"
     },
     "output_type": "display_data"
    }
   ],
   "source": [
    "nb_classifier = MultinomialNB(alpha = 0.04)\n",
    "nb_classifier.fit(tfidf_train, train.label)\n",
    "pred_nb_tfidf = nb_classifier.predict(tfidf_test)\n",
    "cm2 = metrics.confusion_matrix(test.label, pred_nb_tfidf)\n",
    "print(metrics.accuracy_score(test.label, pred_nb_tfidf))\n",
    "print(f\" = {classification_report(test.label,pred_nb_tfidf)}\")\n",
    "plot_confusion_matrix(cm2, classes=['TRUE','FAKE'],title ='TF-IDF yöntemi ile hazırlanan MNB Modeli')"
   ]
  },
  {
   "attachments": {},
   "cell_type": "markdown",
   "metadata": {
    "papermill": {
     "duration": 0.062003,
     "end_time": "2021-02-02T18:53:15.244974",
     "exception": false,
     "start_time": "2021-02-02T18:53:15.182971",
     "status": "completed"
    },
    "tags": []
   },
   "source": [
    "<a id=\"11\"></a> <br>\n",
    "\n",
    "## Pasif Agresif Sınıflandırıcı"
   ]
  },
  {
   "cell_type": "code",
   "execution_count": 202,
   "metadata": {
    "execution": {
     "iopub.execute_input": "2021-02-02T18:53:15.376891Z",
     "iopub.status.busy": "2021-02-02T18:53:15.376233Z",
     "iopub.status.idle": "2021-02-02T18:53:16.494902Z",
     "shell.execute_reply": "2021-02-02T18:53:16.493547Z"
    },
    "papermill": {
     "duration": 1.1881,
     "end_time": "2021-02-02T18:53:16.495097",
     "exception": false,
     "start_time": "2021-02-02T18:53:15.306997",
     "status": "completed"
    },
    "tags": []
   },
   "outputs": [
    {
     "name": "stdout",
     "output_type": "stream",
     "text": [
      "Accuracy = %96.78\n",
      " =               precision    recall  f1-score   support\n",
      "\n",
      "        -1.0       1.00      0.02      0.05       255\n",
      "         1.0       0.97      1.00      0.98      7473\n",
      "\n",
      "    accuracy                           0.97      7728\n",
      "   macro avg       0.98      0.51      0.51      7728\n",
      "weighted avg       0.97      0.97      0.95      7728\n",
      "\n",
      "AUC: 0.5117647058823529\n"
     ]
    },
    {
     "data": {
      "image/png": "[encoded data removed]",
      "text/plain": [
       "<Figure size 432x288 with 2 Axes>"
      ]
     },
     "metadata": {
      "needs_background": "light"
     },
     "output_type": "display_data"
    }
   ],
   "source": [
    "# TF-IDF metodu ile sayısallaştırılmış veriler ile Pasif Agresif Sınıflandırıcının uygulanması\n",
    "linear_classifier = PassiveAggressiveClassifier(C=0.5,random_state=5)                    \n",
    "#PA sınıflandırıcının çağırlması\n",
    "linear_classifier=linear_classifier.fit(tfidf_train, y_train)        \n",
    "#eğitim seti içerisinde eğitimin gerçekleştrilmesi\n",
    "pred_linear_tfidf = linear_classifier.predict(tfidf_test)            \n",
    "#tahminleme prediction işleminin gerçekleştirilmesi\n",
    "acc_linear_tfidf = metrics.accuracy_score(y_test, pred_linear_tfidf) \n",
    "#Doğruluk değerinin hesaplanması\n",
    "print(f\"Accuracy = %{round(acc_linear_tfidf*100,2)}\")                \n",
    "#Doğruluk değerinin girilmesi\n",
    "cm5 = metrics.confusion_matrix(y_test, pred_linear_tfidf) \n",
    "print(f\" = {classification_report(y_test, pred_linear_tfidf)}\")\n",
    "#Confusion matrisi metriklerinin hesaplanması\n",
    "plot_confusion_matrix(cm5, classes=['TRUE','FAKE'], title ='TF-IDF metoduna göre gerçekleştirilmiş PA Modeli')\n",
    "\n",
    "pred_linear_tfidf=np.array([int(i) for i in pred_linear_tfidf])\n",
    "print('AUC:', metrics.roc_auc_score(y_test, pred_linear_tfidf))"
   ]
  },
  {
   "attachments": {},
   "cell_type": "markdown",
   "metadata": {
    "papermill": {
     "duration": 0.059197,
     "end_time": "2021-02-02T18:53:16.614651",
     "exception": false,
     "start_time": "2021-02-02T18:53:16.555454",
     "status": "completed"
    },
    "tags": []
   },
   "source": [
    "<a id=\"12\"></a> <br>\n",
    "\n",
    "## Logistic Regression Modelinin Oluşturulması"
   ]
  },
  {
   "cell_type": "code",
   "execution_count": 203,
   "metadata": {
    "execution": {
     "iopub.execute_input": "2021-02-02T18:53:16.744671Z",
     "iopub.status.busy": "2021-02-02T18:53:16.743787Z",
     "iopub.status.idle": "2021-02-02T18:53:16.747111Z",
     "shell.execute_reply": "2021-02-02T18:53:16.746405Z"
    },
    "papermill": {
     "duration": 0.072465,
     "end_time": "2021-02-02T18:53:16.747304",
     "exception": false,
     "start_time": "2021-02-02T18:53:16.674839",
     "status": "completed"
    },
    "tags": []
   },
   "outputs": [],
   "source": [
    "trigram_vectorizer = CountVectorizer(analyzer = \"word\", ngram_range=(1,3))\n",
    "\n",
    "classifier = LogisticRegression(C=1000, class_weight=None, dual=False, fit_intercept=True,\n",
    "          intercept_scaling=1, max_iter=100, multi_class='multinomial',\n",
    "          n_jobs=None, penalty='l2', random_state=None, solver='newton-cg',\n",
    "          tol=0.0001, verbose=0, warm_start=False)"
   ]
  },
  {
   "cell_type": "code",
   "execution_count": 204,
   "metadata": {
    "execution": {
     "iopub.execute_input": "2021-02-02T18:53:16.940786Z",
     "iopub.status.busy": "2021-02-02T18:53:16.939910Z",
     "iopub.status.idle": "2021-02-02T18:55:48.826313Z",
     "shell.execute_reply": "2021-02-02T18:55:48.825530Z"
    },
    "papermill": {
     "duration": 151.992916,
     "end_time": "2021-02-02T18:55:48.826484",
     "exception": false,
     "start_time": "2021-02-02T18:53:16.833568",
     "status": "completed"
    },
    "tags": []
   },
   "outputs": [
    {
     "name": "stdout",
     "output_type": "stream",
     "text": [
      "accuracy: %98.6\n",
      "              precision    recall  f1-score   support\n",
      "\n",
      "        -1.0       0.99      0.58      0.73       255\n",
      "         1.0       0.99      1.00      0.99      7473\n",
      "\n",
      "    accuracy                           0.99      7728\n",
      "   macro avg       0.99      0.79      0.86      7728\n",
      "weighted avg       0.99      0.99      0.98      7728\n",
      "\n"
     ]
    },
    {
     "data": {
      "image/png": "[encoded data removed]",
      "text/plain": [
       "<Figure size 432x288 with 2 Axes>"
      ]
     },
     "metadata": {
      "needs_background": "light"
     },
     "output_type": "display_data"
    }
   ],
   "source": [
    "pipe = Pipeline([('vect', CountVectorizer(analyzer = \"word\", ngram_range=(1,3))),\n",
    "                 ('tfidf', TfidfTransformer(norm=\"l2\")),\n",
    "                 ('model', classifier)\n",
    "                  ])\n",
    "# modelin eğitilmesi\n",
    "model = pipe.fit(train.clean, train.label)\n",
    "# tahminleme Prediction işleminin gerçekleştirilmesi\n",
    "prediction = model.predict(test.clean)\n",
    "#doğruluk başarımının ekrana yazılması\n",
    "print(f\"accuracy: %{round(accuracy_score(test.label, prediction)*100,2)}\")\n",
    "print(f\"{classification_report(test.label, prediction)}\")\n",
    "#Confusion matrisini oluşturma\n",
    "cm5 = metrics.confusion_matrix(test.label, prediction)\n",
    "plot_confusion_matrix(cm5, classes=['TRUE','FAKE'], title ='Logistic Regression Sınıflandırıcısı CF Matrisi')"
   ]
  },
  {
   "attachments": {},
   "cell_type": "markdown",
   "metadata": {
    "papermill": {
     "duration": 0.09269,
     "end_time": "2021-02-02T18:55:49.009081",
     "exception": false,
     "start_time": "2021-02-02T18:55:48.916391",
     "status": "completed"
    },
    "tags": []
   },
   "source": [
    "Uygulamış olduğum modeller arasında en yüksek doğruluk ve en yüksek F-1 Skor değerlerini veren model Logistic Regression modeli olduğu için test veri seti içerisinde bu modelimle tahminleme işlemini gerçekleştirip submission'umu gerçekleştireceğim."
   ]
  },
  {
   "attachments": {},
   "cell_type": "markdown",
   "metadata": {
    "papermill": {
     "duration": 0.088899,
     "end_time": "2021-02-02T18:55:49.188015",
     "exception": false,
     "start_time": "2021-02-02T18:55:49.099116",
     "status": "completed"
    },
    "tags": []
   },
   "source": [
    "<a id=\"13\"></a> <br>\n",
    "\n",
    "# Test Veri Setine Seçilen Modelin Uygulanması"
   ]
  },
  {
   "cell_type": "code",
   "execution_count": null,
   "metadata": {
    "execution": {
     "iopub.execute_input": "2021-02-02T18:55:49.372885Z",
     "iopub.status.busy": "2021-02-02T18:55:49.372011Z",
     "iopub.status.idle": "2021-02-02T18:55:55.823673Z",
     "shell.execute_reply": "2021-02-02T18:55:55.824355Z"
    },
    "papermill": {
     "duration": 6.547457,
     "end_time": "2021-02-02T18:55:55.824579",
     "exception": false,
     "start_time": "2021-02-02T18:55:49.277122",
     "status": "completed"
    },
    "tags": []
   },
   "outputs": [],
   "source": [
    "# Test Verisini Oluşturuduğumuz Veri Ön İşleme Fonskyionundan Geçiriyoruz.\n",
    "# test[\"text\"] = test[\"text\"].apply(cleaning_data)"
   ]
  },
  {
   "cell_type": "code",
   "execution_count": null,
   "metadata": {
    "execution": {
     "iopub.execute_input": "2021-02-02T18:55:56.024365Z",
     "iopub.status.busy": "2021-02-02T18:55:56.017826Z",
     "iopub.status.idle": "2021-02-02T18:55:57.668852Z",
     "shell.execute_reply": "2021-02-02T18:55:57.667979Z"
    },
    "papermill": {
     "duration": 1.756185,
     "end_time": "2021-02-02T18:55:57.669022",
     "exception": false,
     "start_time": "2021-02-02T18:55:55.912837",
     "status": "completed"
    },
    "tags": []
   },
   "outputs": [],
   "source": [
    "# Modelimizi Test Veri Setinde Tahminleme İşlemini Gerçekleştiriyoruz.\n",
    "# test_pred = model.predict(test[\"text\"])"
   ]
  },
  {
   "cell_type": "code",
   "execution_count": null,
   "metadata": {
    "execution": {
     "iopub.execute_input": "2021-02-02T18:55:57.852594Z",
     "iopub.status.busy": "2021-02-02T18:55:57.851625Z",
     "iopub.status.idle": "2021-02-02T18:55:57.862058Z",
     "shell.execute_reply": "2021-02-02T18:55:57.860807Z"
    },
    "papermill": {
     "duration": 0.104565,
     "end_time": "2021-02-02T18:55:57.862265",
     "exception": false,
     "start_time": "2021-02-02T18:55:57.757700",
     "status": "completed"
    },
    "tags": []
   },
   "outputs": [
    {
     "name": "stdout",
     "output_type": "stream",
     "text": [
      "0        815\n",
      "1        431\n",
      "label      1\n",
      "Name: label, dtype: int64\n"
     ]
    }
   ],
   "source": [
    "# #Test Veri Setine \"Label\" Adlı Hedef Özniteliğimizi Oluşturup İçerisine Elde Ettiğimiz Sonucu Yazıyoruz.\n",
    "# test['label'] = test_pred\n",
    "# test.head()\n",
    "\n",
    "# #Oluşturduğumuz Öznitelik İçeriindeki Değerleri Value_Count Metodu İle Dağılımını Gözlemliyoruz\n",
    "# print(test[\"label\"].value_counts())\n"
   ]
  },
  {
   "attachments": {},
   "cell_type": "markdown",
   "metadata": {
    "papermill": {
     "duration": 0.061832,
     "end_time": "2021-02-02T18:55:57.985655",
     "exception": false,
     "start_time": "2021-02-02T18:55:57.923823",
     "status": "completed"
    },
    "tags": []
   },
   "source": [
    "<a id=\"14\"></a> <br>\n",
    "\n",
    "# Submission"
   ]
  },
  {
   "cell_type": "code",
   "execution_count": null,
   "metadata": {
    "execution": {
     "iopub.execute_input": "2021-02-02T18:55:58.114384Z",
     "iopub.status.busy": "2021-02-02T18:55:58.113710Z",
     "iopub.status.idle": "2021-02-02T18:55:58.117830Z",
     "shell.execute_reply": "2021-02-02T18:55:58.117227Z"
    },
    "papermill": {
     "duration": 0.071158,
     "end_time": "2021-02-02T18:55:58.118113",
     "exception": false,
     "start_time": "2021-02-02T18:55:58.046955",
     "status": "completed"
    },
    "tags": []
   },
   "outputs": [],
   "source": [
    "# sub_test = test[['id','label']]"
   ]
  },
  {
   "cell_type": "code",
   "execution_count": null,
   "metadata": {
    "execution": {
     "iopub.execute_input": "2021-02-02T18:55:58.249636Z",
     "iopub.status.busy": "2021-02-02T18:55:58.248994Z",
     "iopub.status.idle": "2021-02-02T18:55:58.260779Z",
     "shell.execute_reply": "2021-02-02T18:55:58.260267Z"
    },
    "papermill": {
     "duration": 0.079965,
     "end_time": "2021-02-02T18:55:58.260921",
     "exception": false,
     "start_time": "2021-02-02T18:55:58.180956",
     "status": "completed"
    },
    "tags": []
   },
   "outputs": [
    {
     "data": {
      "text/html": [
       "<a href='first_sub.csv' target='_blank'>first_sub.csv</a><br>"
      ],
      "text/plain": [
       "/kaggle/working/first_sub.csv"
      ]
     },
     "execution_count": 33,
     "metadata": {},
     "output_type": "execute_result"
    }
   ],
   "source": [
    "# sub_test.to_csv(\"first_sub.csv\",index = False)\n",
    "# from IPython.display import FileLink\n",
    "# FileLink(r'first_sub.csv')"
   ]
  }
 ],
 "metadata": {
  "kernelspec": {
   "display_name": "Python 3",
   "language": "python",
   "name": "python3"
  },
  "language_info": {
   "codemirror_mode": {
    "name": "ipython",
    "version": 3
   },
   "file_extension": ".py",
   "mimetype": "text/x-python",
   "name": "python",
   "nbconvert_exporter": "python",
   "pygments_lexer": "ipython3",
   "version": "3.8.3"
  },
  "papermill": {
   "default_parameters": {},
   "duration": 258.255391,
   "end_time": "2021-02-02T18:56:00.140143",
   "environment_variables": {},
   "exception": null,
   "input_path": "__notebook__.ipynb",
   "output_path": "__notebook__.ipynb",
   "parameters": {},
   "start_time": "2021-02-02T18:51:41.884752",
   "version": "2.2.2"
  }
 },
 "nbformat": 4,
 "nbformat_minor": 4
}
